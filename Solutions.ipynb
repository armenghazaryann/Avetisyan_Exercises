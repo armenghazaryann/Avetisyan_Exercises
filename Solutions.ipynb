{
 "cells": [
  {
   "cell_type": "markdown",
   "id": "68b17198",
   "metadata": {},
   "source": [
    "## 1-11, 21-76, 91, 92, 151_25-160_25, 161-195, 201-204, 211-223, 231, 249-261, 358, 359\n",
    "\n",
    "### total 147"
   ]
  },
  {
   "cell_type": "code",
   "execution_count": 1,
   "id": "76af4b39",
   "metadata": {},
   "outputs": [],
   "source": [
    "import math"
   ]
  },
  {
   "cell_type": "markdown",
   "id": "14c1ca10",
   "metadata": {},
   "source": [
    "### 1"
   ]
  },
  {
   "cell_type": "code",
   "execution_count": 70,
   "id": "905a6663",
   "metadata": {},
   "outputs": [
    {
     "data": {
      "text/plain": [
       "19724.15675270031"
      ]
     },
     "execution_count": 70,
     "metadata": {},
     "output_type": "execute_result"
    }
   ],
   "source": [
    "def problem_1(x, y):\n",
    "    return (y + 1) * (x + (x**2 +1)**6 * math.sin(x**2 - 3) - math.tan(y))\n",
    "\n",
    "problem_1(2, 0.5)"
   ]
  },
  {
   "cell_type": "markdown",
   "id": "b26f948e",
   "metadata": {},
   "source": [
    "### 2"
   ]
  },
  {
   "cell_type": "code",
   "execution_count": 72,
   "id": "12c21265",
   "metadata": {},
   "outputs": [
    {
     "data": {
      "text/plain": [
       "1.7251826731242863"
      ]
     },
     "execution_count": 72,
     "metadata": {},
     "output_type": "execute_result"
    }
   ],
   "source": [
    "def problem_2(x, y):\n",
    "    return (x**2 - 4)/(y**2) + 2 ** math.sin(math.sqrt(x**2 +1))\n",
    "\n",
    "problem_2(2, 4)"
   ]
  },
  {
   "cell_type": "markdown",
   "id": "02aaac8e",
   "metadata": {},
   "source": [
    "### 3"
   ]
  },
  {
   "cell_type": "code",
   "execution_count": 75,
   "id": "812c1431",
   "metadata": {},
   "outputs": [
    {
     "data": {
      "text/plain": [
       "-0.7424345090276335"
      ]
     },
     "execution_count": 75,
     "metadata": {},
     "output_type": "execute_result"
    }
   ],
   "source": [
    "def problem_3(x, y):\n",
    "    return 1 / math.tan(abs(x**2 - y)/(x**2 + y ** 2) + math.log(x**2 + 1))\n",
    "\n",
    "problem_3(2, 1)"
   ]
  },
  {
   "cell_type": "markdown",
   "id": "2defb10a",
   "metadata": {},
   "source": [
    "### 4"
   ]
  },
  {
   "cell_type": "code",
   "execution_count": 78,
   "id": "cee455b4",
   "metadata": {},
   "outputs": [
    {
     "data": {
      "text/plain": [
       "4.126928011042972"
      ]
     },
     "execution_count": 78,
     "metadata": {},
     "output_type": "execute_result"
    }
   ],
   "source": [
    "def problem_4(x):\n",
    "    return math.log(math.exp(x) +1) + math.pow(math.pow(x, 2) + 4, 1/3)\n",
    "    \n",
    "problem_4(2)"
   ]
  },
  {
   "cell_type": "markdown",
   "id": "bc58aac2",
   "metadata": {},
   "source": [
    "### 5"
   ]
  },
  {
   "cell_type": "code",
   "execution_count": 80,
   "id": "71be7f4a",
   "metadata": {},
   "outputs": [
    {
     "data": {
      "text/plain": [
       "6.318481845228612"
      ]
     },
     "execution_count": 80,
     "metadata": {},
     "output_type": "execute_result"
    }
   ],
   "source": [
    "def problem_5(x, y):\n",
    "    return (math.pow(2, x) - 5) / (math.pow(3, y) + 2) + math.log(((abs(x)+1)**4) + y**2)/math.log(2)\n",
    "\n",
    "problem_5(2, 2)"
   ]
  },
  {
   "cell_type": "markdown",
   "id": "14e122f9",
   "metadata": {},
   "source": [
    "### 6"
   ]
  },
  {
   "cell_type": "code",
   "execution_count": 5,
   "id": "4c787191",
   "metadata": {},
   "outputs": [],
   "source": [
    "def problem_6(x, y):\n",
    "    return math.atan((3*x+4)/((y**2)+ 4)) + math.pow((x**2 + 3)**3, 1/2)"
   ]
  },
  {
   "cell_type": "markdown",
   "id": "abbec215",
   "metadata": {},
   "source": [
    "### 7"
   ]
  },
  {
   "cell_type": "code",
   "execution_count": 4,
   "id": "d84bc28f",
   "metadata": {},
   "outputs": [],
   "source": [
    "def problem_7(x, y):\n",
    "    return ((x**2 + y**2) ** 5 + 4) ** 7 + math.sin(math.cos(x+y))"
   ]
  },
  {
   "cell_type": "markdown",
   "id": "7715cf56",
   "metadata": {},
   "source": [
    "### 8"
   ]
  },
  {
   "cell_type": "code",
   "execution_count": 3,
   "id": "929ab241",
   "metadata": {},
   "outputs": [],
   "source": [
    "def problem_8(x, y):\n",
    "    return math.pow(x**2 + math.pow(y**2 + 4, 1/3), 1/4) + (abs(x) + abs(y)) ** 10"
   ]
  },
  {
   "cell_type": "markdown",
   "id": "2d0558cb",
   "metadata": {},
   "source": [
    "### 9"
   ]
  },
  {
   "cell_type": "code",
   "execution_count": 1,
   "id": "3fcb703e",
   "metadata": {},
   "outputs": [],
   "source": [
    "def problem_9(x, y):\n",
    "    z = math.pow(((x+4)/math.pow(y**2 + 4, 3)), 1/5)\n",
    "    return math.sin(math.pow(x+z, 2)) + 3*z + y/x**2    "
   ]
  },
  {
   "cell_type": "markdown",
   "id": "0af61b2f",
   "metadata": {},
   "source": [
    "### 10"
   ]
  },
  {
   "cell_type": "code",
   "execution_count": 2,
   "id": "98a3cf63",
   "metadata": {},
   "outputs": [],
   "source": [
    "def problem_10(x, y):\n",
    "    z = math.pow(math.sin(math.cos(x+y)+1), 2)\n",
    "    return math.sin(math.pi/12 + x) * math.cos((y+z)/math.pi + z**2) + math.exp(z+4)"
   ]
  },
  {
   "cell_type": "markdown",
   "id": "a62b78e1",
   "metadata": {},
   "source": [
    "### 11"
   ]
  },
  {
   "cell_type": "code",
   "execution_count": 7,
   "id": "ffc8c0c9",
   "metadata": {},
   "outputs": [],
   "source": [
    "def problem_11(a, b):\n",
    "    if a**2 + b**2>5:\n",
    "        return 3 * math.exp(a-x) + math.log(a**2+b**2+5) / math.log(3)\n",
    "    elif a**2 + b**2:\n",
    "        return math.pow(math.tan(a+b), 4)\n",
    "    else:\n",
    "        return -3"
   ]
  },
  {
   "cell_type": "markdown",
   "id": "d3505fdd",
   "metadata": {},
   "source": [
    "### 21"
   ]
  },
  {
   "cell_type": "code",
   "execution_count": 21,
   "id": "c8aeb1ca",
   "metadata": {},
   "outputs": [],
   "source": [
    "def maximum_num(*args):\n",
    "    max_num = args[0]\n",
    "    for arg in args[1:]:\n",
    "        if arg > max_num:\n",
    "            max_num = arg\n",
    "    return max_num\n",
    "\n",
    "assert(maximum_num(1, 2, 3, 4, 5, 6, -2, 0, 99) == 99)  "
   ]
  },
  {
   "cell_type": "markdown",
   "id": "b5c5996f",
   "metadata": {},
   "source": [
    "### 22"
   ]
  },
  {
   "cell_type": "code",
   "execution_count": 22,
   "id": "da4a4c1d",
   "metadata": {},
   "outputs": [],
   "source": [
    "def minimum_num(*args):\n",
    "    min_num = args[0]\n",
    "    for arg in args[1:]:\n",
    "        if arg < min_num:\n",
    "            min_num = arg\n",
    "    return min_num\n",
    "\n",
    "assert(minimum_num(1, 2, 3, 4, 5, 6, -2, 0, 99) == -2)  "
   ]
  },
  {
   "cell_type": "markdown",
   "id": "89a0aa9f",
   "metadata": {},
   "source": [
    "### 23"
   ]
  },
  {
   "cell_type": "code",
   "execution_count": 23,
   "id": "21581800",
   "metadata": {},
   "outputs": [],
   "source": [
    "def searching_one(*args):\n",
    "    for arg in args:\n",
    "        if arg == 1:\n",
    "            return True\n",
    "    return False\n",
    "\n",
    "assert(searching_one(7, 8, 1, 2, -100) == True)\n",
    "assert(searching_one(2, 4, -4, 5, 88, 76) == False)"
   ]
  },
  {
   "cell_type": "markdown",
   "id": "d4720d51",
   "metadata": {},
   "source": [
    "### 24"
   ]
  },
  {
   "cell_type": "code",
   "execution_count": 24,
   "id": "78a50923",
   "metadata": {},
   "outputs": [],
   "source": [
    "def searching_two_twos(*args):\n",
    "    count = 0\n",
    "    for arg in args:\n",
    "        if arg == 2:\n",
    "            count += 1\n",
    "    if count == 2:\n",
    "        return True\n",
    "    else:\n",
    "        return False\n",
    "    \n",
    "assert(searching_two_twos(3, 2, 5, 2, -2) == True)\n",
    "assert(searching_two_twos(2, 3, 5, 77, 45, -9876) == False)"
   ]
  },
  {
   "cell_type": "markdown",
   "id": "62c627c2",
   "metadata": {},
   "source": [
    "### 25"
   ]
  },
  {
   "cell_type": "code",
   "execution_count": 25,
   "id": "2b8de1f2",
   "metadata": {},
   "outputs": [],
   "source": [
    "def triangle_builder(a, b, c):\n",
    "    if a < b + c and b < a + c and c < a + b:\n",
    "        return 'y=1'\n",
    "    else:\n",
    "        return 'y=2'\n",
    "    \n",
    "assert(triangle_builder(4, 5, 6) == 'y=1')\n",
    "assert(triangle_builder(4, 1, 2) == 'y=2')"
   ]
  },
  {
   "cell_type": "markdown",
   "id": "a92f5383",
   "metadata": {},
   "source": [
    "### 26"
   ]
  },
  {
   "cell_type": "code",
   "execution_count": 26,
   "id": "c5adbbbf",
   "metadata": {},
   "outputs": [],
   "source": [
    "def even_checker(*args):\n",
    "    for arg in args:\n",
    "        if arg % 2 == 0:\n",
    "            return 1\n",
    "    return 2\n",
    "\n",
    "assert(even_checker(1, 3, 5, 7, 11) == 2)\n",
    "assert(even_checker(1, 3, 24, 7, 11) == 1)"
   ]
  },
  {
   "cell_type": "markdown",
   "id": "e5935275",
   "metadata": {},
   "source": [
    "### 27"
   ]
  },
  {
   "cell_type": "code",
   "execution_count": 27,
   "id": "49bb395e",
   "metadata": {},
   "outputs": [],
   "source": [
    "def arithmetic_progression(*args):\n",
    "    d = args[1] - args[0]\n",
    "    for i in range(len(args)-1):\n",
    "        if args[i+1] - args[i] != d:\n",
    "            return False\n",
    "    return True\n",
    "\n",
    "assert(arithmetic_progression(1, 3, 5, 7, 9, 11, 13, 15, 17) == True)\n",
    "assert(arithmetic_progression(-1, 1, 3, 5, 7, 9, 11, 13, 14) == False)\n"
   ]
  },
  {
   "cell_type": "markdown",
   "id": "b2445837",
   "metadata": {},
   "source": [
    "### 28"
   ]
  },
  {
   "cell_type": "code",
   "execution_count": 28,
   "id": "45f95b62",
   "metadata": {},
   "outputs": [],
   "source": [
    "def geometric_progression(*args):\n",
    "    r = args[1]/args[0]\n",
    "    for i in range(len(args)-1):\n",
    "        if args[i+1]/args[i] != r:\n",
    "            return False\n",
    "    return True\n",
    "\n",
    "assert(geometric_progression(2, 3, 4.5, 6.75) == True)\n",
    "assert(geometric_progression(3, 5, 2345, -1234, 3) == False)\n"
   ]
  },
  {
   "cell_type": "markdown",
   "id": "3787159b",
   "metadata": {},
   "source": [
    "### 29"
   ]
  },
  {
   "cell_type": "code",
   "execution_count": 29,
   "id": "a1538575",
   "metadata": {},
   "outputs": [
    {
     "data": {
      "text/plain": [
       "(-2, 1, 2, 3, 5)"
      ]
     },
     "execution_count": 29,
     "metadata": {},
     "output_type": "execute_result"
    }
   ],
   "source": [
    "def increasing_order(*args):\n",
    "    list_29 = list(args)\n",
    "    for i in range(1, len(args)+1):\n",
    "        for k in range(1, len(args)+1):\n",
    "            if list_29[-i] > list_29[-k]:\n",
    "                list_29[-i], list_29[-k] = list_29[-k], list_29[-i]\n",
    "    return tuple(list_29)\n",
    "increasing_order(1, 3, -2, 5, 2)"
   ]
  },
  {
   "cell_type": "markdown",
   "id": "31bc0e6f",
   "metadata": {},
   "source": [
    "### 30"
   ]
  },
  {
   "cell_type": "code",
   "execution_count": 30,
   "id": "7da8c989",
   "metadata": {},
   "outputs": [
    {
     "data": {
      "text/plain": [
       "[90, 7, 6, 6, 5, 5, 4, 3, 2, 1, 0, -2, -8]"
      ]
     },
     "execution_count": 30,
     "metadata": {},
     "output_type": "execute_result"
    }
   ],
   "source": [
    "def decreasing_order_1(*args):\n",
    "    list_30_1 = list(args)\n",
    "    for i in range(1, len(args)+1):\n",
    "        for k in range(1, len(args)+1):\n",
    "            if list_30_1[-i] < list_30_1[-k]:\n",
    "                list_30_1[-i], list_30_1[-k] = list_30_1[-k], list_30_1[-i]\n",
    "    return list_30_1\n",
    "decreasing_order_1(1, 3, -2, 5, 2, 0, 7, 6, 4, 5, 6, 90, -8)"
   ]
  },
  {
   "cell_type": "code",
   "execution_count": 31,
   "id": "caf128e0",
   "metadata": {},
   "outputs": [
    {
     "data": {
      "text/plain": [
       "(90, 7, 6, 6, 5, 5, 4, 3, 2, 1, 0, -2, -8)"
      ]
     },
     "execution_count": 31,
     "metadata": {},
     "output_type": "execute_result"
    }
   ],
   "source": [
    "def decreasing_order_2(*args):\n",
    "    list_30_2 = list(args)\n",
    "    for i in range(0, len(args)):\n",
    "        for k in range(i, len(args)):\n",
    "            if list_30_2[i] < list_30_2[k]:\n",
    "                list_30_2[i], list_30_2[k] = list_30_2[k], list_30_2[i]\n",
    "    return tuple(list_30_2)\n",
    "decreasing_order_2(1, 3, -2, 5, 2, 0, 7, 6, 4, 5, 6, 90, -8)"
   ]
  },
  {
   "cell_type": "markdown",
   "id": "4d9b4af8",
   "metadata": {},
   "source": [
    "### 31"
   ]
  },
  {
   "cell_type": "markdown",
   "id": "63f0fa59",
   "metadata": {},
   "source": [
    "#### Same as 21"
   ]
  },
  {
   "cell_type": "markdown",
   "id": "c20bb3f4",
   "metadata": {},
   "source": [
    "### 32"
   ]
  },
  {
   "cell_type": "markdown",
   "id": "6758af5b",
   "metadata": {},
   "source": [
    "#### Same as 22"
   ]
  },
  {
   "cell_type": "markdown",
   "id": "8c2a890d",
   "metadata": {},
   "source": [
    "### 33"
   ]
  },
  {
   "cell_type": "markdown",
   "id": "884157c2",
   "metadata": {},
   "source": [
    "#### Same as 23"
   ]
  },
  {
   "cell_type": "markdown",
   "id": "ad01d2d8",
   "metadata": {},
   "source": [
    "### 34"
   ]
  },
  {
   "cell_type": "code",
   "execution_count": 32,
   "id": "7ac80988",
   "metadata": {},
   "outputs": [],
   "source": [
    "def equal_sums(a, b, c, d):\n",
    "    return True if a+b==c+d or a+c==b+d or a+d==b+c else False\n",
    "\n",
    "assert(equal_sums(1, 2, -1, 4) == True)\n",
    "assert(equal_sums(90, 1, 50, 2) == False)"
   ]
  },
  {
   "cell_type": "markdown",
   "id": "d09352b4",
   "metadata": {},
   "source": [
    "### 35"
   ]
  },
  {
   "cell_type": "code",
   "execution_count": 33,
   "id": "c41aa302",
   "metadata": {},
   "outputs": [],
   "source": [
    "def three_equal_one(a, b, c, d):\n",
    "    return True if a+b+c==d or a+c+d==d or a+b+d==c or b+c+d==a else False\n",
    "\n",
    "assert(three_equal_one(1, 2, 3, 6) == True)\n",
    "assert(three_equal_one(2, 25, 4, -8) == False)"
   ]
  },
  {
   "cell_type": "markdown",
   "id": "86dcd8d6",
   "metadata": {},
   "source": [
    "### 36"
   ]
  },
  {
   "cell_type": "code",
   "execution_count": 34,
   "id": "b4294973",
   "metadata": {},
   "outputs": [],
   "source": [
    "def at_least_two_odds(*args):\n",
    "    count = 0\n",
    "    for arg in args:\n",
    "        if arg % 2 == 1:\n",
    "            count += 1\n",
    "    return 1 if count >= 2 else 2\n",
    "    \n",
    "assert(at_least_two_odds(3, 6, 9, 21, 48) == 1)\n",
    "assert(at_least_two_odds(3, 6, 10, 222) == 2)"
   ]
  },
  {
   "cell_type": "markdown",
   "id": "49aca016",
   "metadata": {},
   "source": [
    "### 37"
   ]
  },
  {
   "cell_type": "markdown",
   "id": "459611a4",
   "metadata": {},
   "source": [
    "#### Same as 27"
   ]
  },
  {
   "cell_type": "markdown",
   "id": "8f12eb2c",
   "metadata": {},
   "source": [
    "### 38"
   ]
  },
  {
   "cell_type": "markdown",
   "id": "4ac7da27",
   "metadata": {},
   "source": [
    "#### Same as 28"
   ]
  },
  {
   "cell_type": "markdown",
   "id": "be7fef5a",
   "metadata": {},
   "source": [
    "### 39"
   ]
  },
  {
   "cell_type": "markdown",
   "id": "6ae90b2e",
   "metadata": {},
   "source": [
    "#### Same as 29"
   ]
  },
  {
   "cell_type": "markdown",
   "id": "ab642715",
   "metadata": {},
   "source": [
    "### 40"
   ]
  },
  {
   "cell_type": "markdown",
   "id": "182a4a9a",
   "metadata": {},
   "source": [
    "#### Same as 30"
   ]
  },
  {
   "cell_type": "markdown",
   "id": "33a00c78",
   "metadata": {},
   "source": [
    "### 41"
   ]
  },
  {
   "cell_type": "code",
   "execution_count": 26,
   "id": "6375d05b",
   "metadata": {},
   "outputs": [],
   "source": [
    "def problem_41(x, y):\n",
    "    if (x**2 + y**2 > 1) and (x**2 + y**2 < 4):\n",
    "        return 0\n",
    "    else:\n",
    "        return x+y"
   ]
  },
  {
   "cell_type": "markdown",
   "id": "5e9eac0d",
   "metadata": {},
   "source": [
    "### 42"
   ]
  },
  {
   "cell_type": "code",
   "execution_count": 27,
   "id": "b56bc382",
   "metadata": {},
   "outputs": [],
   "source": [
    "def problem_42(x, y):\n",
    "    if (x**2 + y**2)>1 and (x/2+y/2)<1:\n",
    "        return x + y**2    \n",
    "    else:\n",
    "        return 5*x"
   ]
  },
  {
   "cell_type": "markdown",
   "id": "768deaa0",
   "metadata": {},
   "source": [
    "### 43"
   ]
  },
  {
   "cell_type": "code",
   "execution_count": 28,
   "id": "f4f1c084",
   "metadata": {},
   "outputs": [],
   "source": [
    "def problem_43(x, y):\n",
    "    if y < 3*x/4 and x**2 + y**2 < 4:\n",
    "        return x**2+4\n",
    "    else:\n",
    "        return 5*x"
   ]
  },
  {
   "cell_type": "markdown",
   "id": "0a111078",
   "metadata": {},
   "source": [
    "### 44"
   ]
  },
  {
   "cell_type": "code",
   "execution_count": 29,
   "id": "1bc9a973",
   "metadata": {},
   "outputs": [],
   "source": [
    "def problem_44(x, y):\n",
    "    if x**2 + (y-1)**2 < 1 and y + x**2 < 1:\n",
    "        return 7* x**2 +2\n",
    "    \n",
    "    else:\n",
    "        return 0"
   ]
  },
  {
   "cell_type": "markdown",
   "id": "8c05b6cd",
   "metadata": {},
   "source": [
    "### 45"
   ]
  },
  {
   "cell_type": "code",
   "execution_count": 24,
   "id": "058f5961",
   "metadata": {},
   "outputs": [],
   "source": [
    "def problem_45(x, y):\n",
    "    if x**2 + y**2<1 and y>x and y> -x:\n",
    "        return 5* x**2 + 2 * y\n",
    "    else:\n",
    "        return -7"
   ]
  },
  {
   "cell_type": "markdown",
   "id": "6e85c633",
   "metadata": {},
   "source": [
    "### 46"
   ]
  },
  {
   "cell_type": "code",
   "execution_count": 22,
   "id": "41e5cc13",
   "metadata": {},
   "outputs": [],
   "source": [
    "def problem_46(x, y):\n",
    "    if y + x > 1 and x/2.5 + y/1.5 < 1:\n",
    "        return math.sin(x)\n",
    "    else:\n",
    "        return z"
   ]
  },
  {
   "cell_type": "markdown",
   "id": "13ffaf81",
   "metadata": {},
   "source": [
    "### 47"
   ]
  },
  {
   "cell_type": "code",
   "execution_count": null,
   "id": "32a943fa",
   "metadata": {},
   "outputs": [],
   "source": [
    "def problem_47(x, y):\n",
    "    if y > 0 and y-x<1 and y + x/2 <1:\n",
    "        return math.sin(x)\n",
    "    else:\n",
    "        return 0"
   ]
  },
  {
   "cell_type": "markdown",
   "id": "97cf8def",
   "metadata": {},
   "source": [
    "### 48"
   ]
  },
  {
   "cell_type": "code",
   "execution_count": 31,
   "id": "1711bb36",
   "metadata": {},
   "outputs": [],
   "source": [
    "def problem_48(x, y):\n",
    "    if x**2+y**2<9 and y+x>2:\n",
    "        return math.tan(x)\n",
    "    else:\n",
    "        return math.cos(x)"
   ]
  },
  {
   "cell_type": "markdown",
   "id": "2f971786",
   "metadata": {},
   "source": [
    "### 49"
   ]
  },
  {
   "cell_type": "code",
   "execution_count": 32,
   "id": "e70edc3a",
   "metadata": {},
   "outputs": [],
   "source": [
    "def problem_49():\n",
    "    if y - x/2 < 1 and y-x**2 > 0:\n",
    "        return math.log(x**2 + 1) / math.log(5)\n",
    "    else:\n",
    "        return y+7"
   ]
  },
  {
   "cell_type": "markdown",
   "id": "17efc584",
   "metadata": {},
   "source": [
    "### 50"
   ]
  },
  {
   "cell_type": "code",
   "execution_count": 33,
   "id": "5895a45d",
   "metadata": {},
   "outputs": [],
   "source": [
    "def problem_50(x, y):\n",
    "    if x< 3 and y-x <1 and y +x >2:\n",
    "        return math.exp(x+y)\n",
    "    else:\n",
    "        return 10e-7"
   ]
  },
  {
   "cell_type": "markdown",
   "id": "33676efa",
   "metadata": {},
   "source": [
    "### 51"
   ]
  },
  {
   "cell_type": "code",
   "execution_count": 35,
   "id": "5a6f4ccf",
   "metadata": {},
   "outputs": [],
   "source": [
    "def balanced_three_digits(t):\n",
    "    return True if int(str(t)[-1]) == (int(str(t)[0]) + int(str(t)[1])) else False\n",
    "\n",
    "assert(balanced_three_digits(123) == True)\n",
    "assert(balanced_three_digits(124) == False)"
   ]
  },
  {
   "cell_type": "markdown",
   "id": "7a8b4ce4",
   "metadata": {},
   "source": [
    "### 52"
   ]
  },
  {
   "cell_type": "code",
   "execution_count": 36,
   "id": "d00c7f1c",
   "metadata": {},
   "outputs": [],
   "source": [
    "def equal_digits(t):\n",
    "    # we do not need to convert to integer, since same strings are equal\n",
    "    return True if str(t)[0] == str(t)[1] or str(t)[1] == str(t)[2] or str(t)[2] == str(t)[0] else False\n",
    "\n",
    "assert(equal_digits(223) == True)\n",
    "assert(equal_digits(567) == False)"
   ]
  },
  {
   "cell_type": "markdown",
   "id": "956337a6",
   "metadata": {},
   "source": [
    "### 53"
   ]
  },
  {
   "cell_type": "code",
   "execution_count": 37,
   "id": "b2a34d0d",
   "metadata": {},
   "outputs": [],
   "source": [
    "def digits_division(t, k):\n",
    "    num = str(t)\n",
    "    return t/(int(str(t)[0]) + int(str(t)[1]) + int(str(t)[2])) if t > k else t/(int(str(t)[2]))\n",
    "\n",
    "assert(digits_division(333, 332) == 37)\n",
    "assert(digits_division(333, 334) == 111)"
   ]
  },
  {
   "cell_type": "markdown",
   "id": "7a68d7be",
   "metadata": {},
   "source": [
    "### 54"
   ]
  },
  {
   "cell_type": "code",
   "execution_count": 38,
   "id": "ed0b31ab",
   "metadata": {},
   "outputs": [],
   "source": [
    "# solved for any length number\n",
    "def biggist_digit(t):\n",
    "    L=[]\n",
    "    for i in range(len(str(t))):\n",
    "        L.append(int(str(t)[i]))\n",
    "    \n",
    "    # here is used problem 21 function\n",
    "    return maximum_num(*L)\n",
    "\n",
    "assert(biggist_digit(256) == 6)"
   ]
  },
  {
   "cell_type": "markdown",
   "id": "f8f6dea2",
   "metadata": {},
   "source": [
    "### 55"
   ]
  },
  {
   "cell_type": "code",
   "execution_count": 39,
   "id": "dbebdb69",
   "metadata": {},
   "outputs": [],
   "source": [
    "# solved for any length number\n",
    "def smallest_digit(t):\n",
    "    L=[]\n",
    "    for i in range(len(str(t))):\n",
    "        L.append(int(str(t)[i]))\n",
    "    \n",
    "    # here is used problem 22 function\n",
    "    return minimum_num(*L)\n",
    "\n",
    "assert(smallest_digit(256) == 2)"
   ]
  },
  {
   "cell_type": "markdown",
   "id": "abdc8405",
   "metadata": {},
   "source": [
    "### 56"
   ]
  },
  {
   "cell_type": "code",
   "execution_count": 40,
   "id": "b6b2a0b2",
   "metadata": {},
   "outputs": [],
   "source": [
    "def problem_56(t):\n",
    "    return t/(int(str(t)[0]) + int(str(t)[1])+ int(str(t)[2])) if (ord(str(t)[-1]) > ord(str(t)[1])) else t\n",
    "\n",
    "assert(problem_56(234) == 26)\n",
    "assert(problem_56(243) == 243)"
   ]
  },
  {
   "cell_type": "markdown",
   "id": "d7c98102",
   "metadata": {},
   "source": [
    "### 57"
   ]
  },
  {
   "cell_type": "code",
   "execution_count": 41,
   "id": "72412f99",
   "metadata": {},
   "outputs": [],
   "source": [
    "def bigger_300(t):\n",
    "    return (int(str(t)[1])/int(str(t)[2])) if t>300 else (int(str(t)[0])/int(str(t)[2]))\n",
    "\n",
    "assert(bigger_300(342) == 2)\n",
    "assert(bigger_300(234) == 0.5)"
   ]
  },
  {
   "cell_type": "markdown",
   "id": "9594bfd7",
   "metadata": {},
   "source": [
    "### 58"
   ]
  },
  {
   "cell_type": "code",
   "execution_count": 42,
   "id": "237e68c5",
   "metadata": {
    "scrolled": true
   },
   "outputs": [],
   "source": [
    "def f_is_a_or_b(t):\n",
    "    f = 'a' if int(str(t)[0]) + int(str(t)[1]) < 5 else 'b'\n",
    "    return f\n",
    "\n",
    "assert(f_is_a_or_b(123) == 'a')\n",
    "assert(f_is_a_or_b(345) == 'b')"
   ]
  },
  {
   "cell_type": "markdown",
   "id": "ce66f3e6",
   "metadata": {},
   "source": [
    "### 59"
   ]
  },
  {
   "cell_type": "code",
   "execution_count": 43,
   "id": "9d3a060f",
   "metadata": {},
   "outputs": [],
   "source": [
    "def digit_increasing(t):\n",
    "    L=[]\n",
    "    for i in range(len(str(t))):\n",
    "        L.append(int(str(t)[i]))\n",
    "        \n",
    "    # here is used problem 22 function\n",
    "    return int(''.join(str(i) for i in (increasing_order(*L))))\n",
    "\n",
    "assert(digit_increasing(324) == 234)"
   ]
  },
  {
   "cell_type": "markdown",
   "id": "04bc3204",
   "metadata": {},
   "source": [
    "### 60"
   ]
  },
  {
   "cell_type": "code",
   "execution_count": 45,
   "id": "eb228c34",
   "metadata": {},
   "outputs": [],
   "source": [
    "def digit_decreasing(t):\n",
    "  \n",
    "    L=[int(x) for x in str(t)]\n",
    "#     for i in range(len(str(t))):\n",
    "#         L.append(int(str(t)[i]))\n",
    "            \n",
    "    # here is used problem 30 function\n",
    "    return int(''.join(str(i) for i in (decreasing_order_1(*L))))\n",
    "\n",
    "assert(digit_decreasing(324) == 432)"
   ]
  },
  {
   "cell_type": "markdown",
   "id": "6d4290f8",
   "metadata": {},
   "source": [
    "### 61"
   ]
  },
  {
   "cell_type": "code",
   "execution_count": 46,
   "id": "1d6ef063",
   "metadata": {},
   "outputs": [],
   "source": [
    "def sum_of_digits(t):\n",
    "    num=str(t)\n",
    "    if int(num[0]) + int(num[1]) == int(num[2]) + int(num[3]):\n",
    "        return True\n",
    "    else:\n",
    "        return False\n",
    "    \n",
    "assert(sum_of_digits(7988) == True)\n",
    "assert(sum_of_digits(1350) == False)"
   ]
  },
  {
   "cell_type": "markdown",
   "id": "2bf6a788",
   "metadata": {},
   "source": [
    "### 62"
   ]
  },
  {
   "cell_type": "code",
   "execution_count": 47,
   "id": "4881fd56",
   "metadata": {},
   "outputs": [],
   "source": [
    "def division_5000(t):\n",
    "    num = str(t)\n",
    "    if t < 5000:\n",
    "        return t/(int(num[-1]) + int(num[1]))\n",
    "    else:\n",
    "        return t/(int(num[0]) + int(num[2]))\n",
    "    \n",
    "assert(division_5000(3291) == 1097)\n",
    "assert(division_5000(5000) == 1000)"
   ]
  },
  {
   "cell_type": "markdown",
   "id": "1dfb2d3a",
   "metadata": {},
   "source": [
    "### 63"
   ]
  },
  {
   "cell_type": "code",
   "execution_count": 48,
   "id": "6dfc0e24",
   "metadata": {},
   "outputs": [],
   "source": [
    "def availability_of_1(t):\n",
    "    return '1' in str(t)\n",
    "\n",
    "assert(availability_of_1(1234) == True)\n",
    "assert(availability_of_1(4534) == False)"
   ]
  },
  {
   "cell_type": "markdown",
   "id": "c58a1217",
   "metadata": {},
   "source": [
    "### 64"
   ]
  },
  {
   "cell_type": "code",
   "execution_count": 49,
   "id": "90f0cb52",
   "metadata": {},
   "outputs": [],
   "source": [
    "def y_value(t):\n",
    "    num = str(t)\n",
    "    \n",
    "    if int(num[-1]) + int(num[-2]) == 5:\n",
    "        y = 's'\n",
    "    else:\n",
    "        y = 'd'\n",
    "        \n",
    "    return y\n",
    "\n",
    "assert(y_value(1232) == 's')\n",
    "assert(y_value(1235) == 'd')"
   ]
  },
  {
   "cell_type": "markdown",
   "id": "4fbd3ab2",
   "metadata": {},
   "source": [
    "### 65"
   ]
  },
  {
   "cell_type": "code",
   "execution_count": 50,
   "id": "782765b4",
   "metadata": {},
   "outputs": [],
   "source": [
    "def y_12(t):\n",
    "    num = str(t)\n",
    "    \n",
    "    if int(num[-1]) * int(num[-2]) == 12:\n",
    "        return 'y=12'\n",
    "    else:\n",
    "        return 'y=0'\n",
    "    \n",
    "assert(y_12(1234) == 'y=12')\n",
    "assert(y_12(1245) == 'y=0')"
   ]
  },
  {
   "cell_type": "markdown",
   "id": "75f593c7",
   "metadata": {},
   "source": [
    "### 66"
   ]
  },
  {
   "cell_type": "code",
   "execution_count": 51,
   "id": "e963a0f5",
   "metadata": {},
   "outputs": [],
   "source": [
    "def four_checker(t):\n",
    "    \n",
    "    if (str(t)[0] == '4') or (str(t)[-1] == '4'):\n",
    "        return 'YES'\n",
    "    else:\n",
    "        return 'NO'\n",
    "    \n",
    "assert(four_checker(1234) == 'YES')\n",
    "assert(four_checker(4356) == 'YES')\n",
    "assert(four_checker(2356) == 'NO')"
   ]
  },
  {
   "cell_type": "markdown",
   "id": "8c82d864",
   "metadata": {},
   "source": [
    "### 67"
   ]
  },
  {
   "cell_type": "code",
   "execution_count": 52,
   "id": "2a0579b3",
   "metadata": {},
   "outputs": [],
   "source": [
    "def square_checker(t):\n",
    "    num = str(t)\n",
    "    \n",
    "    if (int(num[0]) + int(num[1]) + int(num[2]) + int(num[3])) ** 2 == int(num):\n",
    "        return 'YES'\n",
    "    else:\n",
    "        return 'NO'\n",
    "    \n",
    "assert(square_checker(1234) == 'NO')"
   ]
  },
  {
   "cell_type": "markdown",
   "id": "82f89fcb",
   "metadata": {},
   "source": [
    "### 68"
   ]
  },
  {
   "cell_type": "code",
   "execution_count": 56,
   "id": "63b87ee8",
   "metadata": {},
   "outputs": [],
   "source": [
    "def multiplication_100_1(t):\n",
    "    num = str(t)\n",
    "    if int(num[-1]) > int(num[-2]):\n",
    "        return int(num[-1]) * int(num[-2])\n",
    "    else:\n",
    "        return 1\n",
    "    \n",
    "assert(multiplication_100_1(1245) == 20)\n",
    "assert(multiplication_100_1(1243) == 1)"
   ]
  },
  {
   "cell_type": "markdown",
   "id": "9bb12210",
   "metadata": {},
   "source": [
    "### 69"
   ]
  },
  {
   "cell_type": "code",
   "execution_count": 57,
   "id": "9ffe8566",
   "metadata": {},
   "outputs": [],
   "source": [
    "def problem_69(t):\n",
    "    num = str(t)\n",
    "    total = 0\n",
    "    \n",
    "    for i in num:\n",
    "        total += int(i)\n",
    "    \n",
    "    y = 1 if total > 20 else 0\n",
    "    \n",
    "    return y\n",
    "\n",
    "assert()"
   ]
  },
  {
   "cell_type": "markdown",
   "id": "fac37611",
   "metadata": {},
   "source": [
    "### 70"
   ]
  },
  {
   "cell_type": "code",
   "execution_count": 62,
   "id": "9018f4e1",
   "metadata": {},
   "outputs": [],
   "source": [
    "def problem_70(t):\n",
    "    num = str(t)\n",
    "    total = 1\n",
    "    \n",
    "    for i in num:\n",
    "        total *= int(i)\n",
    "        \n",
    "    y = 0 if total > 200 else 1\n",
    "    \n",
    "    return y\n",
    "\n",
    "assert(problem_70(9999) == 0)\n",
    "assert(problem_70(9909) == 1)"
   ]
  },
  {
   "cell_type": "markdown",
   "id": "d4d742fe",
   "metadata": {},
   "source": [
    "### TRY/EXCEPT"
   ]
  },
  {
   "cell_type": "code",
   "execution_count": 34,
   "id": "d05547c6",
   "metadata": {
    "scrolled": true
   },
   "outputs": [],
   "source": [
    "# def absd(t):\n",
    "#     num = str(t)\n",
    "#     e = 1\n",
    "#     try:\n",
    "#         t/(int(num[-1]) + int(num[1]))\n",
    "#     except ZeroDivisionError as e:\n",
    "#         print(e)  \n",
    "#     except Exception as e:\n",
    "#         print(e) \n",
    "#     print(e)\n",
    "# absd(1020)"
   ]
  },
  {
   "cell_type": "markdown",
   "id": "57c1f60e",
   "metadata": {},
   "source": [
    "### 71"
   ]
  },
  {
   "cell_type": "code",
   "execution_count": 28,
   "id": "713d8862",
   "metadata": {
    "scrolled": true
   },
   "outputs": [
    {
     "data": {
      "text/plain": [
       "{2.4: 2.148757947887652,\n",
       " 2.6: -0.6935302122796663,\n",
       " 2.8: 1.1940912662880414,\n",
       " 3.0: -0.8559934009085187,\n",
       " 3.2: 1.3465881019193238,\n",
       " 3.4: -0.5328178616030175,\n",
       " 3.6: 3.7537713228907235,\n",
       " 3.8: 0.04889032268813888,\n",
       " 4.0: -2.1348966977217008,\n",
       " 4.2: 1.2791176673071938,\n",
       " 4.4: -0.11483470105501913,\n",
       " 4.6: -1.767503660097022,\n",
       " 4.8: 2.7676365670197187,\n",
       " 5.0: 0.473814720414451,\n",
       " 5.2: -0.26507075658463963,\n",
       " 5.4: -1.2114009792982812,\n",
       " 5.6: -6.6844714257303375,\n",
       " 5.8: 3.08888135207983,\n",
       " 6.0: 1.2001272431162864,\n",
       " 6.2: 0.6473606369755862,\n",
       " 6.4: 0.3683466651470547,\n",
       " 6.6: 0.2145355992410621,\n",
       " 6.8: 0.1508688618948631,\n",
       " 7.0: 0.16974975208268753,\n",
       " 7.2: 0.27305200454657097,\n",
       " 7.4: 0.47685605501183204,\n",
       " 7.6: 0.848063871514372}"
      ]
     },
     "execution_count": 28,
     "metadata": {},
     "output_type": "execute_result"
    }
   ],
   "source": [
    "def problem_71():\n",
    "    return {i/10: math.tan(2*i/10+(i/10)**2) for i in range(24, 77, 2)}\n",
    "\n",
    "problem_71()"
   ]
  },
  {
   "cell_type": "markdown",
   "id": "faf59f04",
   "metadata": {},
   "source": [
    "### 72"
   ]
  },
  {
   "cell_type": "code",
   "execution_count": 39,
   "id": "e3c26bf8",
   "metadata": {},
   "outputs": [
    {
     "data": {
      "text/plain": [
       "{-5.4: 0.6677861287209467,\n",
       " -5.0: 56.08744723816903,\n",
       " -4.6: 0.8325537095420337,\n",
       " -4.2: 0.14274769444685223,\n",
       " -3.8: 0.0976207106510529,\n",
       " -3.4: 0.40085617789440453,\n",
       " -3.0: 4.8878374313362,\n",
       " -2.6: 3.7475160163991763,\n",
       " -2.2: 0.016463009230849802,\n",
       " -1.8: 102.59703220282341,\n",
       " -1.4: 0.1682019746722486,\n",
       " -1.0: 0.41228292743739187,\n",
       " -0.6: 7.058203733217357,\n",
       " -0.2: 624.3334400270957,\n",
       " 0.2: 624.3334400270957,\n",
       " 0.6: 7.058203733217357,\n",
       " 1.0: 0.41228292743739187}"
      ]
     },
     "execution_count": 39,
     "metadata": {},
     "output_type": "execute_result"
    }
   ],
   "source": [
    "def problem_72():\n",
    "    return {i/10: math.pow(1/math.tan(math.pow(i/10, 2)), 2) for i in range(-54, 13, 4)}\n",
    "\n",
    "problem_72()"
   ]
  },
  {
   "cell_type": "markdown",
   "id": "b50d13cc",
   "metadata": {},
   "source": [
    "### 73"
   ]
  },
  {
   "cell_type": "code",
   "execution_count": 38,
   "id": "d2709d4f",
   "metadata": {},
   "outputs": [
    {
     "data": {
      "text/plain": [
       "{7.5: 72.25,\n",
       " 7.7: 75.68999999999998,\n",
       " 7.9: 79.21000000000001,\n",
       " 8.1: 82.80999999999999,\n",
       " 8.3: 86.49000000000001,\n",
       " 8.5: 90.25,\n",
       " 8.7: 94.08999999999999,\n",
       " 8.9: 98.01,\n",
       " 9.1: 102.00999999999999,\n",
       " 9.3: 106.09000000000002,\n",
       " 9.5: 110.25,\n",
       " 9.7: 114.48999999999998,\n",
       " 9.9: 118.81,\n",
       " 10.1: 123.21,\n",
       " 10.3: 127.69000000000001,\n",
       " 10.5: 132.25,\n",
       " 10.7: 136.89,\n",
       " 10.9: 141.61,\n",
       " 11.1: 146.41,\n",
       " 11.3: 151.29000000000002,\n",
       " 11.5: 156.25,\n",
       " 11.7: 161.29,\n",
       " 11.9: 166.41,\n",
       " 12.1: 171.60999999999999,\n",
       " 12.3: 176.89000000000001,\n",
       " 12.5: 182.25}"
      ]
     },
     "execution_count": 38,
     "metadata": {},
     "output_type": "execute_result"
    }
   ],
   "source": [
    "def problem_73():\n",
    "    return {i/10: math.pow(i/10 +1, 2) for i in range(75, 126, 2)}\n",
    "\n",
    "problem_73()"
   ]
  },
  {
   "cell_type": "markdown",
   "id": "72ba9f63",
   "metadata": {},
   "source": [
    "### 74"
   ]
  },
  {
   "cell_type": "code",
   "execution_count": 43,
   "id": "4f069d92",
   "metadata": {},
   "outputs": [
    {
     "data": {
      "text/plain": [
       "{-3.8: 1.148698354997035,\n",
       " -3.5: 1.4142135623730951,\n",
       " -3.2: 1.741101126592248,\n",
       " -2.9: 2.1435469250725863,\n",
       " -2.6: 2.6390158215457884,\n",
       " -2.3: 3.2490095854249423,\n",
       " -2.0: 4.0,\n",
       " -1.7: 4.924577653379664,\n",
       " -1.4: 6.062866266041593,\n",
       " -1.1: 7.464263932294459,\n",
       " -0.8: 9.18958683997628,\n",
       " -0.5: 11.313708498984761,\n",
       " -0.2: 13.928809012737984,\n",
       " 0.1: 17.148375400580687,\n",
       " 0.4: 21.112126572366314,\n",
       " 0.7: 25.99207668339954,\n",
       " 1.0: 32.0,\n",
       " 1.3: 39.396621227037315,\n",
       " 1.6: 48.50293012833273,\n",
       " 1.9: 59.71411145835569,\n",
       " 2.2: 73.51669471981025,\n",
       " 2.5: 90.50966799187809,\n",
       " 2.8: 111.43047210190387,\n",
       " 3.1: 137.1870032046455,\n",
       " 3.4: 168.89701257893051,\n",
       " 3.7: 207.9366134671963,\n",
       " 4.0: 256.0,\n",
       " 4.3: 315.17296981629875,\n",
       " 4.6: 388.0234410266618,\n",
       " 4.9: 477.7128916668455,\n",
       " 5.2: 588.1335577584816}"
      ]
     },
     "execution_count": 43,
     "metadata": {},
     "output_type": "execute_result"
    }
   ],
   "source": [
    "def problem_74():\n",
    "    return {i/10: math.pow(2, i/10 +4) for i in range(-38, 54, 3)} \n",
    "\n",
    "problem_74()"
   ]
  },
  {
   "cell_type": "markdown",
   "id": "c50ad9be",
   "metadata": {},
   "source": [
    "### 75"
   ]
  },
  {
   "cell_type": "code",
   "execution_count": 83,
   "id": "6ac3fa4f",
   "metadata": {},
   "outputs": [
    {
     "data": {
      "text/plain": [
       "{-3.141592653589793: -1.0,\n",
       " -2.748893571891069: -0.7774329231045605,\n",
       " -2.356194490192345: -0.20710678118654735,\n",
       " -1.9634954084936207: 0.470869958228184,\n",
       " -1.5707963267948966: 1.0,\n",
       " -1.1780972450961724: 1.2362368229583636,\n",
       " -0.7853981633974483: 1.2071067811865475,\n",
       " -0.39269908169872414: 1.070326141918013,\n",
       " 0.0: 1.0,\n",
       " 0.39269908169872414: 1.070326141918013,\n",
       " 0.7853981633974483: 1.2071067811865475,\n",
       " 1.1780972450961724: 1.2362368229583636,\n",
       " 1.5707963267948966: 1.0,\n",
       " 1.9634954084936207: 0.470869958228184,\n",
       " 2.356194490192345: -0.20710678118654735,\n",
       " 2.748893571891069: -0.7774329231045605,\n",
       " 3.141592653589793: -1.0}"
      ]
     },
     "execution_count": 83,
     "metadata": {},
     "output_type": "execute_result"
    }
   ],
   "source": [
    "def problem_75():\n",
    "    x = -math.pi\n",
    "    dict_75 = {}\n",
    "    for _ in range(int(2/ (1/8)) +1):\n",
    "        dict_75[x] = math.pow(math.sin(x), 2)+math.cos(x)\n",
    "        x += (math.pi * 1/8)\n",
    "        \n",
    "    return dict_75\n",
    "problem_75()"
   ]
  },
  {
   "cell_type": "markdown",
   "id": "94b91621",
   "metadata": {},
   "source": [
    "### 76"
   ]
  },
  {
   "cell_type": "code",
   "execution_count": 91,
   "id": "86a3c8a7",
   "metadata": {},
   "outputs": [
    {
     "data": {
      "text/plain": [
       "{-0.5: 0, -0.3: 0, -0.1: 0, 0.1: 5, 0.3: 26253}"
      ]
     },
     "execution_count": 91,
     "metadata": {},
     "output_type": "execute_result"
    }
   ],
   "source": [
    "def problem_76():\n",
    "    return {i: (i)**2 + 4* (i)**8 if i>0 else 0 for i in range(-5, 5, 2)}\n",
    "\n",
    "problem_76()"
   ]
  },
  {
   "cell_type": "markdown",
   "id": "41464646",
   "metadata": {},
   "source": [
    "### 91"
   ]
  },
  {
   "cell_type": "code",
   "execution_count": 100,
   "id": "49b1dda1",
   "metadata": {},
   "outputs": [
    {
     "data": {
      "text/plain": [
       "2.5"
      ]
     },
     "execution_count": 100,
     "metadata": {},
     "output_type": "execute_result"
    }
   ],
   "source": [
    "def problem_91(n):\n",
    "    x_i_1 = 1\n",
    "    total_sum = 0\n",
    "    for i in range(1, n+1):\n",
    "        if i == 1:\n",
    "            total_sum += x_i_1\n",
    "            continue\n",
    "        x_i = 0.5 * abs(x_i_1 -4)\n",
    "        total_sum+= x_i\n",
    "        x_i_1 = x_i\n",
    "    return total_sum\n",
    "\n",
    "\n",
    "problem_91(2)"
   ]
  },
  {
   "cell_type": "markdown",
   "id": "393cd5eb",
   "metadata": {},
   "source": [
    "### 92"
   ]
  },
  {
   "cell_type": "code",
   "execution_count": 129,
   "id": "738dce3a",
   "metadata": {},
   "outputs": [
    {
     "data": {
      "text/plain": [
       "'Please give a valid number'"
      ]
     },
     "execution_count": 129,
     "metadata": {},
     "output_type": "execute_result"
    }
   ],
   "source": [
    "def problem_92(n):\n",
    "    try:\n",
    "        if n > 0 and isinstance(n, int):\n",
    "            x_i_1 = 0.5\n",
    "            total_sum = x_i_1\n",
    "            for _ in range(n):\n",
    "                x_i = math.tan(x_i_1 + 2)\n",
    "                total_sum += x_i\n",
    "                x_i_1 = x_i\n",
    "            return total_sum\n",
    "        else:\n",
    "            raise ValueError('Please give a valid number')\n",
    "    except ValueError as e:\n",
    "        return str(e) # et please-y vor tpi\n",
    "\n",
    "problem_92(-1)\n"
   ]
  },
  {
   "cell_type": "markdown",
   "id": "2921ee1e",
   "metadata": {},
   "source": [
    "### 151_25"
   ]
  },
  {
   "cell_type": "code",
   "execution_count": 131,
   "id": "18afaa66",
   "metadata": {},
   "outputs": [
    {
     "data": {
      "text/plain": [
       "14"
      ]
     },
     "execution_count": 131,
     "metadata": {},
     "output_type": "execute_result"
    }
   ],
   "source": [
    "def problem_151(n):\n",
    "    total_sum = 0\n",
    "    for i in range(1, n+1):\n",
    "        if n % i == 0:\n",
    "            total_sum += i\n",
    "    return total_sum\n",
    "\n",
    "problem_151(13)"
   ]
  },
  {
   "cell_type": "markdown",
   "id": "39ef7ca5",
   "metadata": {},
   "source": [
    "### 152_25"
   ]
  },
  {
   "cell_type": "code",
   "execution_count": 133,
   "id": "15c3d579",
   "metadata": {},
   "outputs": [
    {
     "data": {
      "text/plain": [
       "1728"
      ]
     },
     "execution_count": 133,
     "metadata": {},
     "output_type": "execute_result"
    }
   ],
   "source": [
    "def problem_152(n):\n",
    "    total_product = 1\n",
    "    for i in range(1, n+1):\n",
    "        if n % i == 0:\n",
    "            total_product *= i\n",
    "    return total_product\n",
    "\n",
    "problem_152(12)"
   ]
  },
  {
   "cell_type": "markdown",
   "id": "154d45e6",
   "metadata": {},
   "source": [
    "### 153_25"
   ]
  },
  {
   "cell_type": "code",
   "execution_count": 134,
   "id": "cd27e9d2",
   "metadata": {},
   "outputs": [
    {
     "data": {
      "text/plain": [
       "11"
      ]
     },
     "execution_count": 134,
     "metadata": {},
     "output_type": "execute_result"
    }
   ],
   "source": [
    "def problem_153(n):\n",
    "    total_sum = 0\n",
    "    for i in range(1, n+1):\n",
    "        if n % i == 2:\n",
    "            total_sum += i\n",
    "    return total_sum\n",
    "\n",
    "problem_153(13)"
   ]
  },
  {
   "cell_type": "markdown",
   "id": "33635fc9",
   "metadata": {},
   "source": [
    "### 154_25"
   ]
  },
  {
   "cell_type": "code",
   "execution_count": 135,
   "id": "1373186f",
   "metadata": {},
   "outputs": [
    {
     "data": {
      "text/plain": [
       "9"
      ]
     },
     "execution_count": 135,
     "metadata": {},
     "output_type": "execute_result"
    }
   ],
   "source": [
    "def problem_154(n):\n",
    "    total_product = 1\n",
    "    for i in range(1, n+1):\n",
    "        if n % i == 3:\n",
    "            total_product *= i\n",
    "    return total_product\n",
    "\n",
    "problem_154(12)"
   ]
  },
  {
   "cell_type": "markdown",
   "id": "7b7b441b",
   "metadata": {},
   "source": [
    "### 155_25"
   ]
  },
  {
   "cell_type": "code",
   "execution_count": 3,
   "id": "12a45a7d",
   "metadata": {},
   "outputs": [
    {
     "data": {
      "text/plain": [
       "315"
      ]
     },
     "execution_count": 3,
     "metadata": {},
     "output_type": "execute_result"
    }
   ],
   "source": [
    "def problem_155():\n",
    "    total_sum = 0\n",
    "    for i in range(10, 100):\n",
    "        if i%3==0 and i%5==0:\n",
    "            total_sum += i\n",
    "    return total_sum\n",
    "\n",
    "problem_155()"
   ]
  },
  {
   "cell_type": "markdown",
   "id": "a6903d27",
   "metadata": {},
   "source": [
    "### 156_25"
   ]
  },
  {
   "cell_type": "code",
   "execution_count": 4,
   "id": "a2de098e",
   "metadata": {},
   "outputs": [
    {
     "data": {
      "text/plain": [
       "8201250000"
      ]
     },
     "execution_count": 4,
     "metadata": {},
     "output_type": "execute_result"
    }
   ],
   "source": [
    "def problem_156():\n",
    "    total_product = 1\n",
    "    for i in range(10, 100):\n",
    "        if i%3==0 and i%5==0:\n",
    "            total_product *= i\n",
    "    return total_product\n",
    "\n",
    "problem_156()"
   ]
  },
  {
   "cell_type": "code",
   "execution_count": 7,
   "id": "1f05893e",
   "metadata": {},
   "outputs": [],
   "source": [
    "from functools import reduce"
   ]
  },
  {
   "cell_type": "code",
   "execution_count": 9,
   "id": "9fbd170e",
   "metadata": {},
   "outputs": [
    {
     "data": {
      "text/plain": [
       "8201250000"
      ]
     },
     "execution_count": 9,
     "metadata": {},
     "output_type": "execute_result"
    }
   ],
   "source": [
    "def problem_156_2():\n",
    "    numbers = [i for i in range(10, 100) if i%3==0 and i%5==0]\n",
    "    product = reduce(lambda x, y: x * y, numbers)\n",
    "    return product\n",
    "\n",
    "problem_156_2()"
   ]
  },
  {
   "cell_type": "markdown",
   "id": "ff9463c8",
   "metadata": {},
   "source": [
    "### 157_25"
   ]
  },
  {
   "cell_type": "code",
   "execution_count": 11,
   "id": "854c14b1",
   "metadata": {},
   "outputs": [
    {
     "data": {
      "text/plain": [
       "396000"
      ]
     },
     "execution_count": 11,
     "metadata": {},
     "output_type": "execute_result"
    }
   ],
   "source": [
    "def problem_157():\n",
    "    total_sum = 0\n",
    "    for i in range(100, 1000):\n",
    "        if i % 5 != 0:\n",
    "            total_sum += i\n",
    "    return total_sum\n",
    "\n",
    "problem_157()"
   ]
  },
  {
   "cell_type": "markdown",
   "id": "98d43744",
   "metadata": {},
   "source": [
    "### 158_25"
   ]
  },
  {
   "cell_type": "code",
   "execution_count": 13,
   "id": "67e82f54",
   "metadata": {},
   "outputs": [
    {
     "data": {
      "text/plain": [
       "51560686337893068621394645453904170492689335034994170695945721319791862985264239824743975349036297438704753693745166346956946892059312646039665817576233718926452168220708708792049062760928174889745227072568708716230886407782328121370213878334411472693707222623072982997396794476614503315105211125962463095653410403150913010417877807840396489462038239954298288169686020882443420693917806971033103619478755120736640216840269024311435824620050308275328482994111548667272329676626370321812349876707554123339610760982764551630006914957353043677255181616458745252043388159064077594133436757617215963701179607707286537863151227562306056553599208350826900950931529631992956999204204065575278335474736445568882643248289463009635225465708033801876126592215177781916224321497044247308849662658758461475372314453125"
      ]
     },
     "execution_count": 13,
     "metadata": {},
     "output_type": "execute_result"
    }
   ],
   "source": [
    "def problem_158():\n",
    "    total_product = 1\n",
    "    for i in range(100, 1000):\n",
    "        if i % 2 != 0 and i % 3 != 0:\n",
    "            total_product *= i\n",
    "    return total_product\n",
    "\n",
    "problem_158()"
   ]
  },
  {
   "cell_type": "markdown",
   "id": "bb505ff7",
   "metadata": {},
   "source": [
    "### 159_25"
   ]
  },
  {
   "cell_type": "code",
   "execution_count": 16,
   "id": "fda97423",
   "metadata": {},
   "outputs": [
    {
     "data": {
      "text/plain": [
       "579695196568355862128567933974951448174357381197335180941942299394546823061449119032239063380324687409755252127066851768350208032118524173388337665785817303260066452784896317031710720000000000000000000"
      ]
     },
     "execution_count": 16,
     "metadata": {},
     "output_type": "execute_result"
    }
   ],
   "source": [
    "def problem_159():\n",
    "    total_product = 1\n",
    "    for i in range(100, 1000):\n",
    "        if i % 3 == 1 and i % 4 == 2:\n",
    "            total_product *= i\n",
    "    return total_product\n",
    "\n",
    "problem_159()"
   ]
  },
  {
   "cell_type": "markdown",
   "id": "3adf3c76",
   "metadata": {},
   "source": [
    "### 160_25"
   ]
  },
  {
   "cell_type": "code",
   "execution_count": 26,
   "id": "4ca7636e",
   "metadata": {},
   "outputs": [
    {
     "data": {
      "text/plain": [
       "100"
      ]
     },
     "execution_count": 26,
     "metadata": {},
     "output_type": "execute_result"
    }
   ],
   "source": [
    "def problem_160():\n",
    "    for i in range(100, 1000):\n",
    "        if math.sqrt(i *16) == int(math.sqrt(i *16)):\n",
    "            return i\n",
    "problem_160()"
   ]
  },
  {
   "cell_type": "markdown",
   "id": "caf5dd3e",
   "metadata": {},
   "source": [
    "### 161"
   ]
  },
  {
   "cell_type": "code",
   "execution_count": 28,
   "id": "15542a97",
   "metadata": {},
   "outputs": [
    {
     "data": {
      "text/plain": [
       "1274"
      ]
     },
     "execution_count": 28,
     "metadata": {},
     "output_type": "execute_result"
    }
   ],
   "source": [
    "def problem_161():\n",
    "    for i in range(1000, 10000):\n",
    "        if math.sqrt(i*26) == int(math.sqrt(i*26)):\n",
    "            return i\n",
    "\n",
    "problem_161()"
   ]
  },
  {
   "cell_type": "markdown",
   "id": "2c5f9e89",
   "metadata": {},
   "source": [
    "### 162"
   ]
  },
  {
   "cell_type": "code",
   "execution_count": 36,
   "id": "f5f722c6",
   "metadata": {},
   "outputs": [
    {
     "data": {
      "text/plain": [
       "9464"
      ]
     },
     "execution_count": 36,
     "metadata": {},
     "output_type": "execute_result"
    }
   ],
   "source": [
    "def problem_162():\n",
    "    for i in reversed(range(1000, 10000)):\n",
    "        if math.sqrt(i*14) == int(math.sqrt(i*14)):\n",
    "            return i\n",
    "\n",
    "problem_162()"
   ]
  },
  {
   "cell_type": "markdown",
   "id": "d0e9a141",
   "metadata": {},
   "source": [
    "### 163"
   ]
  },
  {
   "cell_type": "code",
   "execution_count": 38,
   "id": "1ce8aea7",
   "metadata": {},
   "outputs": [
    {
     "data": {
      "text/plain": [
       "9800"
      ]
     },
     "execution_count": 38,
     "metadata": {},
     "output_type": "execute_result"
    }
   ],
   "source": [
    "def problem_163():\n",
    "    for i in reversed(range(1000, 10000)):\n",
    "        if math.sqrt(i*18) == int(math.sqrt(i*18)):\n",
    "            return i\n",
    "        \n",
    "problem_163()"
   ]
  },
  {
   "cell_type": "markdown",
   "id": "c14c5cf5",
   "metadata": {},
   "source": [
    "### 164"
   ]
  },
  {
   "cell_type": "code",
   "execution_count": 42,
   "id": "dc94e6a4",
   "metadata": {},
   "outputs": [
    {
     "data": {
      "text/plain": [
       "485"
      ]
     },
     "execution_count": 42,
     "metadata": {},
     "output_type": "execute_result"
    }
   ],
   "source": [
    "def problem_164(n):\n",
    "    for i in range(100, 1000):\n",
    "        if math.sqrt(i) > n:\n",
    "            return i\n",
    "\n",
    "problem_164(22)"
   ]
  },
  {
   "cell_type": "markdown",
   "id": "33fda255",
   "metadata": {},
   "source": [
    "### 165"
   ]
  },
  {
   "cell_type": "code",
   "execution_count": 43,
   "id": "f05a2bc0",
   "metadata": {},
   "outputs": [
    {
     "data": {
      "text/plain": [
       "False"
      ]
     },
     "execution_count": 43,
     "metadata": {},
     "output_type": "execute_result"
    }
   ],
   "source": [
    "def problem_165(n):\n",
    "    if n ** (1/3) == int(n ** 1/3):\n",
    "        t = True\n",
    "    else:\n",
    "        t = False\n",
    "    \n",
    "    return t\n",
    "    \n",
    "problem_165(345)"
   ]
  },
  {
   "cell_type": "markdown",
   "id": "54c03704",
   "metadata": {},
   "source": [
    "### 166"
   ]
  },
  {
   "cell_type": "code",
   "execution_count": 45,
   "id": "51845743",
   "metadata": {},
   "outputs": [
    {
     "data": {
      "text/plain": [
       "0"
      ]
     },
     "execution_count": 45,
     "metadata": {},
     "output_type": "execute_result"
    }
   ],
   "source": [
    "def problem_166(n):\n",
    "    if n ** (1/4) != int(n ** 1/4):\n",
    "        y = 0\n",
    "    else:\n",
    "        y =1\n",
    "        \n",
    "    return y\n",
    "\n",
    "problem_166(345)"
   ]
  },
  {
   "cell_type": "markdown",
   "id": "992abfd3",
   "metadata": {},
   "source": [
    "### 167"
   ]
  },
  {
   "cell_type": "code",
   "execution_count": 46,
   "id": "48b45a59",
   "metadata": {},
   "outputs": [
    {
     "data": {
      "text/plain": [
       "True"
      ]
     },
     "execution_count": 46,
     "metadata": {},
     "output_type": "execute_result"
    }
   ],
   "source": [
    "def problem_167(x):\n",
    "    for i in range(1, 31):\n",
    "        if math.sin(x**i) <0:\n",
    "            y = True\n",
    "        else:\n",
    "            y = False\n",
    "    \n",
    "    return y\n",
    "\n",
    "problem_167(4)"
   ]
  },
  {
   "cell_type": "markdown",
   "id": "0018dd30",
   "metadata": {},
   "source": [
    "### 168"
   ]
  },
  {
   "cell_type": "code",
   "execution_count": 57,
   "id": "37eae161",
   "metadata": {},
   "outputs": [
    {
     "data": {
      "text/plain": [
       "True"
      ]
     },
     "execution_count": 57,
     "metadata": {},
     "output_type": "execute_result"
    }
   ],
   "source": [
    "def problem_168(n):\n",
    "    for i in range(1, int(math.sqrt(n))+1):\n",
    "        if n % i == 0:\n",
    "            p = True\n",
    "        else:\n",
    "            p = False\n",
    "            \n",
    "    return p\n",
    "\n",
    "problem_168(16)"
   ]
  },
  {
   "cell_type": "markdown",
   "id": "ca93766e",
   "metadata": {},
   "source": [
    "### 169"
   ]
  },
  {
   "cell_type": "code",
   "execution_count": 60,
   "id": "17cff5cf",
   "metadata": {},
   "outputs": [
    {
     "data": {
      "text/plain": [
       "5"
      ]
     },
     "execution_count": 60,
     "metadata": {},
     "output_type": "execute_result"
    }
   ],
   "source": [
    "def problem_169(x, y):\n",
    "    for i in range(1, int(x+y)+1):\n",
    "        if (x+y) % i == 0:\n",
    "            z = 5\n",
    "        else:\n",
    "            z = 6\n",
    "            \n",
    "    return z\n",
    "\n",
    "problem_169(4, 5)"
   ]
  },
  {
   "cell_type": "markdown",
   "id": "09828946",
   "metadata": {},
   "source": [
    "### 170"
   ]
  },
  {
   "cell_type": "code",
   "execution_count": 68,
   "id": "ff779dd7",
   "metadata": {},
   "outputs": [
    {
     "data": {
      "text/plain": [
       "64"
      ]
     },
     "execution_count": 68,
     "metadata": {},
     "output_type": "execute_result"
    }
   ],
   "source": [
    "def problem_170(n):\n",
    "    k = n\n",
    "    while math.log2(k) != int(math.log2(k)):\n",
    "        k +=1\n",
    "    return k\n",
    "problem_170(34)"
   ]
  },
  {
   "cell_type": "markdown",
   "id": "453274ee",
   "metadata": {},
   "source": [
    "### 171"
   ]
  },
  {
   "cell_type": "code",
   "execution_count": 3,
   "id": "eff1c2f1",
   "metadata": {},
   "outputs": [
    {
     "data": {
      "text/plain": [
       "6"
      ]
     },
     "execution_count": 3,
     "metadata": {},
     "output_type": "execute_result"
    }
   ],
   "source": [
    "def problem_171(n):\n",
    "    k = 1\n",
    "    for i in range(1, 1+n):\n",
    "        k *= i\n",
    "        \n",
    "    return k\n",
    "\n",
    "problem_171(3)"
   ]
  },
  {
   "cell_type": "markdown",
   "id": "9d085cad",
   "metadata": {},
   "source": [
    "### 172"
   ]
  },
  {
   "cell_type": "code",
   "execution_count": 26,
   "id": "de665f92",
   "metadata": {},
   "outputs": [
    {
     "name": "stdout",
     "output_type": "stream",
     "text": [
      "46080\n",
      "105\n",
      "8\n"
     ]
    }
   ],
   "source": [
    "def problem_172(n):\n",
    "#     if N % 2 == 0:\n",
    "#         w\n",
    "#     else:\n",
    "    k=1\n",
    "    if n % 2 == 0:\n",
    "        for i in reversed(range(2, 3+n, 2)):\n",
    "            if i != 2:\n",
    "                k *= (i-2)\n",
    "                \n",
    "    else:\n",
    "        for i in reversed(range(1, 3+n, 2)):\n",
    "            if i != 1:\n",
    "                k *= (i-2)\n",
    "        \n",
    "    return k\n",
    "\n",
    "print(problem_172(12))\n",
    "print(problem_172(7))\n",
    "print(problem_172(4))"
   ]
  },
  {
   "cell_type": "markdown",
   "id": "a6b7f7f6",
   "metadata": {},
   "source": [
    "### 173"
   ]
  },
  {
   "cell_type": "code",
   "execution_count": 28,
   "id": "22eeab0f",
   "metadata": {},
   "outputs": [
    {
     "data": {
      "text/plain": [
       "[1.0, 1.1, 1.2, 1.3, 1.4, 1.5, 1.6, 1.7000000000000002, 1.8, 1.9, 2.0]"
      ]
     },
     "execution_count": 28,
     "metadata": {},
     "output_type": "execute_result"
    }
   ],
   "source": [
    "def problem_173(n, a, b):\n",
    "    h = (b-a)/n\n",
    "    L = []\n",
    "    for i in range(n+1):\n",
    "        L.append(a+h*i)\n",
    "        \n",
    "    return L\n",
    "\n",
    "problem_173(10, 1, 2)\n",
    "    "
   ]
  },
  {
   "cell_type": "markdown",
   "id": "531075d8",
   "metadata": {},
   "source": [
    "### 174"
   ]
  },
  {
   "cell_type": "code",
   "execution_count": 32,
   "id": "7964ed9d",
   "metadata": {},
   "outputs": [
    {
     "data": {
      "text/plain": [
       "[2.5,\n",
       " 2.4,\n",
       " 2.4166666666666665,\n",
       " 2.413793103448276,\n",
       " 2.414285714285714,\n",
       " 2.4142011834319526,\n",
       " 2.4142156862745097,\n",
       " 2.414213197969543,\n",
       " 2.41421362489487,\n",
       " 2.414213551646055]"
      ]
     },
     "execution_count": 32,
     "metadata": {},
     "output_type": "execute_result"
    }
   ],
   "source": [
    "def problem_174(n):\n",
    "    x_old = 2\n",
    "    L = []\n",
    "    for _ in range(n):\n",
    "        x_new = 2+1/x_old\n",
    "        L.append(x_new)\n",
    "        x_old = x_new\n",
    "    return L\n",
    "\n",
    "problem_174(10)\n",
    "        "
   ]
  },
  {
   "cell_type": "markdown",
   "id": "bf289a3f",
   "metadata": {},
   "source": [
    "### 175"
   ]
  },
  {
   "cell_type": "code",
   "execution_count": 35,
   "id": "3c7f7b81",
   "metadata": {},
   "outputs": [
    {
     "data": {
      "text/plain": [
       "[2.0,\n",
       " 1.5,\n",
       " 0.8333333333333334,\n",
       " 0.45833333333333337,\n",
       " 0.2916666666666667,\n",
       " 0.2152777777777778,\n",
       " 0.1736111111111111,\n",
       " 0.1467013888888889,\n",
       " 0.12741126543209877,\n",
       " 0.11274112654320986]"
      ]
     },
     "execution_count": 35,
     "metadata": {},
     "output_type": "execute_result"
    }
   ],
   "source": [
    "def problem_175(n):\n",
    "    x_old = 1\n",
    "    L = []\n",
    "    for i in range(1, n+1):\n",
    "        x_new = (x_old+1)/i\n",
    "        L.append(x_new)\n",
    "        x_old = x_new\n",
    "        \n",
    "    return L\n",
    "\n",
    "problem_175(10)"
   ]
  },
  {
   "cell_type": "markdown",
   "id": "60f63915",
   "metadata": {},
   "source": [
    "### 176"
   ]
  },
  {
   "cell_type": "code",
   "execution_count": 7,
   "id": "8772f401",
   "metadata": {},
   "outputs": [
    {
     "data": {
      "text/plain": [
       "[1, 1, 2, 3, 5, 8, 13, 21]"
      ]
     },
     "execution_count": 7,
     "metadata": {},
     "output_type": "execute_result"
    }
   ],
   "source": [
    "def _problem_176_(n):    \n",
    "    if n == 1:\n",
    "        return 1\n",
    "    if n == 2:\n",
    "        return 1\n",
    "    else:\n",
    "        return _problem_176_(n-1) + _problem_176_(n-2)\n",
    "\n",
    "def problem_176(n):\n",
    "    L = []\n",
    "    for i in range(1, n+1):\n",
    "        L.append(_problem_176_(i))\n",
    "        \n",
    "    return L\n",
    "    \n",
    "problem_176(8)"
   ]
  },
  {
   "cell_type": "markdown",
   "id": "86122a45",
   "metadata": {},
   "source": [
    "### 177"
   ]
  },
  {
   "cell_type": "code",
   "execution_count": 56,
   "id": "b4fa8918",
   "metadata": {},
   "outputs": [
    {
     "data": {
      "text/plain": [
       "[1.6666666666666667,\n",
       " 1.777777777777778,\n",
       " 1.7407407407407407,\n",
       " 1.7530864197530864,\n",
       " 1.748971193415638,\n",
       " 1.7503429355281208,\n",
       " 1.749885688157293,\n",
       " 1.750038103947569,\n",
       " 1.7499872986841438,\n",
       " 1.7500042337719524]"
      ]
     },
     "execution_count": 56,
     "metadata": {},
     "output_type": "execute_result"
    }
   ],
   "source": [
    "def problem_177(n):\n",
    "    x_1 = 1\n",
    "    x_2 = 2\n",
    "    L = []\n",
    "    for _ in range(n):\n",
    "        x_new = (x_1 + 2*x_2)/3\n",
    "        L.append(x_new)\n",
    "        x_1 = x_2\n",
    "        x_2 = x_new\n",
    "    return L\n",
    "\n",
    "problem_177(10)"
   ]
  },
  {
   "cell_type": "markdown",
   "id": "f10dff75",
   "metadata": {},
   "source": [
    "### 178"
   ]
  },
  {
   "cell_type": "code",
   "execution_count": 57,
   "id": "038ed4df",
   "metadata": {},
   "outputs": [
    {
     "data": {
      "text/plain": [
       "[3, 2, -1, -5, -10, -13, -13, -6, 7, 27, 46, 59]"
      ]
     },
     "execution_count": 57,
     "metadata": {},
     "output_type": "execute_result"
    }
   ],
   "source": [
    "def problem_178(n):\n",
    "    x_1 = 1\n",
    "    x_2 = 2\n",
    "    x_3 = 3\n",
    "    L = []\n",
    "    for _ in range(n):\n",
    "        x_new = x_3 + x_2 - 2 * x_1\n",
    "        L.append(x_new)\n",
    "        x_1 = x_2\n",
    "        x_2 = x_3\n",
    "        x_3 = x_new\n",
    "        \n",
    "    return L\n",
    "\n",
    "problem_178(12)"
   ]
  },
  {
   "cell_type": "markdown",
   "id": "94ba16e1",
   "metadata": {},
   "source": [
    "### 179"
   ]
  },
  {
   "cell_type": "code",
   "execution_count": 62,
   "id": "8c1917ce",
   "metadata": {},
   "outputs": [
    {
     "data": {
      "text/plain": [
       "(2, 1)"
      ]
     },
     "execution_count": 62,
     "metadata": {},
     "output_type": "execute_result"
    }
   ],
   "source": [
    "def problem_179(n, k):\n",
    "    q = 0\n",
    "    while n-k>0:\n",
    "        n = n - k\n",
    "        q += 1\n",
    "    return q, abs(n-k)\n",
    "       \n",
    "problem_179(8, 3)"
   ]
  },
  {
   "cell_type": "markdown",
   "id": "87b2e794",
   "metadata": {},
   "source": [
    "### 180"
   ]
  },
  {
   "cell_type": "code",
   "execution_count": 70,
   "id": "495ae046",
   "metadata": {},
   "outputs": [
    {
     "data": {
      "text/plain": [
       "True"
      ]
     },
     "execution_count": 70,
     "metadata": {},
     "output_type": "execute_result"
    }
   ],
   "source": [
    "def problem_180(n):\n",
    "    if math.log(n) / math.log(3) == int(math.log(n) / math.log(3)):\n",
    "        return True\n",
    "    else:\n",
    "        return False\n",
    "\n",
    "problem_180(81)"
   ]
  },
  {
   "cell_type": "markdown",
   "id": "870028ac",
   "metadata": {},
   "source": [
    "### 181"
   ]
  },
  {
   "cell_type": "code",
   "execution_count": 73,
   "id": "69a00f49",
   "metadata": {},
   "outputs": [
    {
     "data": {
      "text/plain": [
       "4.0"
      ]
     },
     "execution_count": 73,
     "metadata": {},
     "output_type": "execute_result"
    }
   ],
   "source": [
    "def problem_181(n):\n",
    "    return math.log2(n)\n",
    "\n",
    "problem_181(16)"
   ]
  },
  {
   "cell_type": "markdown",
   "id": "b35f8619",
   "metadata": {},
   "source": [
    "### 182"
   ]
  },
  {
   "cell_type": "code",
   "execution_count": 83,
   "id": "50ba9d7d",
   "metadata": {},
   "outputs": [
    {
     "data": {
      "text/plain": [
       "2"
      ]
     },
     "execution_count": 83,
     "metadata": {},
     "output_type": "execute_result"
    }
   ],
   "source": [
    "def problem_182(n):\n",
    "    for i in reversed(range(int(n/2)+1)):\n",
    "        if i**2<=n:\n",
    "            return i\n",
    "        \n",
    "problem_182(4)"
   ]
  },
  {
   "cell_type": "markdown",
   "id": "dc47c8cc",
   "metadata": {},
   "source": [
    "### 183"
   ]
  },
  {
   "cell_type": "code",
   "execution_count": 2,
   "id": "cc40f789",
   "metadata": {},
   "outputs": [
    {
     "data": {
      "text/plain": [
       "4"
      ]
     },
     "execution_count": 2,
     "metadata": {},
     "output_type": "execute_result"
    }
   ],
   "source": [
    "def problem_183(n):\n",
    "    for i in range(int(n/2)+1):\n",
    "        if 3**i>n:\n",
    "            return i   \n",
    "\n",
    "problem_183(45)"
   ]
  },
  {
   "cell_type": "markdown",
   "id": "e4ea2b44",
   "metadata": {},
   "source": [
    "### 184"
   ]
  },
  {
   "cell_type": "code",
   "execution_count": 3,
   "id": "6b9087c6",
   "metadata": {},
   "outputs": [
    {
     "data": {
      "text/plain": [
       "6"
      ]
     },
     "execution_count": 3,
     "metadata": {},
     "output_type": "execute_result"
    }
   ],
   "source": [
    "def problem_184(n):\n",
    "    for i in reversed(range(1, n+1)):\n",
    "        if math.log(n)/math.log(i)>3:\n",
    "            return i\n",
    "        \n",
    "problem_184(234)"
   ]
  },
  {
   "cell_type": "markdown",
   "id": "d1bd7cbd",
   "metadata": {},
   "source": [
    "### 185"
   ]
  },
  {
   "cell_type": "code",
   "execution_count": 9,
   "id": "4aae84c1",
   "metadata": {},
   "outputs": [
    {
     "data": {
      "text/plain": [
       "28"
      ]
     },
     "execution_count": 9,
     "metadata": {},
     "output_type": "execute_result"
    }
   ],
   "source": [
    "def problem_185(p):\n",
    "    n = 30000\n",
    "    k=0\n",
    "    while n < 100000:\n",
    "        k += 1\n",
    "        n *= ((p+100)/100)\n",
    "    return k\n",
    " \n",
    "problem_185(4.5)"
   ]
  },
  {
   "cell_type": "markdown",
   "id": "6d7e9c73",
   "metadata": {},
   "source": [
    "### 186"
   ]
  },
  {
   "cell_type": "code",
   "execution_count": 11,
   "id": "7924b56b",
   "metadata": {},
   "outputs": [
    {
     "data": {
      "text/plain": [
       "5"
      ]
     },
     "execution_count": 11,
     "metadata": {},
     "output_type": "execute_result"
    }
   ],
   "source": [
    "def problem_186(p):\n",
    "    d = 20\n",
    "    k = 0\n",
    "    while d < 80:\n",
    "        k += 1\n",
    "        d *= ((p+100)/100)\n",
    "    return k\n",
    "\n",
    "problem_186(33)"
   ]
  },
  {
   "cell_type": "markdown",
   "id": "cd0e3935",
   "metadata": {},
   "source": [
    "### 187"
   ]
  },
  {
   "cell_type": "code",
   "execution_count": 13,
   "id": "fb8213c2",
   "metadata": {},
   "outputs": [
    {
     "data": {
      "text/plain": [
       "False"
      ]
     },
     "execution_count": 13,
     "metadata": {},
     "output_type": "execute_result"
    }
   ],
   "source": [
    "def problem_187(n):\n",
    "    for i in range(2, int(math.sqrt(n))+1):\n",
    "        if n % i == 0:\n",
    "            return True\n",
    "        \n",
    "    return False\n",
    "\n",
    "problem_187(19)"
   ]
  },
  {
   "cell_type": "markdown",
   "id": "f314ca0f",
   "metadata": {},
   "source": [
    "### 188"
   ]
  },
  {
   "cell_type": "code",
   "execution_count": 16,
   "id": "bca9be70",
   "metadata": {},
   "outputs": [
    {
     "data": {
      "text/plain": [
       "True"
      ]
     },
     "execution_count": 16,
     "metadata": {},
     "output_type": "execute_result"
    }
   ],
   "source": [
    "def problem_188(n):\n",
    "    if math.sqrt(5*(n**2) + 4) == int(math.sqrt(5*(n**2) + 4)):\n",
    "        return True\n",
    "    elif math.sqrt(5*(n**2) - 4) == int(math.sqrt(5*(n**2) - 4)):\n",
    "        return True\n",
    "    else:\n",
    "        return False\n",
    "    \n",
    "problem_188(3)"
   ]
  },
  {
   "cell_type": "markdown",
   "id": "8259a641",
   "metadata": {},
   "source": [
    "### 189"
   ]
  },
  {
   "cell_type": "code",
   "execution_count": 23,
   "id": "5d44c23c",
   "metadata": {},
   "outputs": [
    {
     "data": {
      "text/plain": [
       "55"
      ]
     },
     "execution_count": 23,
     "metadata": {},
     "output_type": "execute_result"
    }
   ],
   "source": [
    "def problem_189(n):\n",
    "    f_n_1 = 0\n",
    "    _problem_176_(n)\n",
    "    k = 1\n",
    "    while f_n_1 < n:\n",
    "        f_n_1 = _problem_176_(k)\n",
    "        k+=1\n",
    "    return f_n_1\n",
    "\n",
    "problem_189(35)"
   ]
  },
  {
   "cell_type": "markdown",
   "id": "82492ac1",
   "metadata": {},
   "source": [
    "### 190"
   ]
  },
  {
   "cell_type": "code",
   "execution_count": 34,
   "id": "fd86bc9c",
   "metadata": {},
   "outputs": [
    {
     "data": {
      "text/plain": [
       "1"
      ]
     },
     "execution_count": 34,
     "metadata": {},
     "output_type": "execute_result"
    }
   ],
   "source": [
    "def _problem_190_(k):\n",
    "    x1 = 1\n",
    "    x2 = 2\n",
    "    L = []\n",
    "    for _ in range(k):\n",
    "        x_new = (x1+2*x2)/3\n",
    "        L.append(x_new)\n",
    "        x1 = x2\n",
    "        x2 = x_new\n",
    "    return L\n",
    "\n",
    "def problem_190(eps):\n",
    "    k = 1\n",
    "    while abs(sum(_problem_190_(k+1)) - sum(_problem_190_(k)))<eps:\n",
    "        k+=1\n",
    "    return k\n",
    "\n",
    "problem_190(1)"
   ]
  },
  {
   "cell_type": "markdown",
   "id": "3b63b732",
   "metadata": {},
   "source": [
    "### 191"
   ]
  },
  {
   "cell_type": "code",
   "execution_count": 2,
   "id": "d547a3d4",
   "metadata": {},
   "outputs": [
    {
     "data": {
      "text/plain": [
       "161"
      ]
     },
     "execution_count": 2,
     "metadata": {},
     "output_type": "execute_result"
    }
   ],
   "source": [
    "def problem_191(n, x):\n",
    "    num = 1\n",
    "    for i in range(1, n+1):\n",
    "        num += x**n\n",
    "        \n",
    "    return num\n",
    "\n",
    "problem_191(5, 2)"
   ]
  },
  {
   "cell_type": "markdown",
   "id": "aa90ed0e",
   "metadata": {},
   "source": [
    "### 192"
   ]
  },
  {
   "cell_type": "code",
   "execution_count": 5,
   "id": "54e3bc0c",
   "metadata": {},
   "outputs": [
    {
     "data": {
      "text/plain": [
       "-21"
      ]
     },
     "execution_count": 5,
     "metadata": {},
     "output_type": "execute_result"
    }
   ],
   "source": [
    "def problem_192(n, x):\n",
    "    num = 1\n",
    "    for i in range(1, n+1):\n",
    "        num += (-1)**i * x**i\n",
    "    \n",
    "    return num\n",
    "\n",
    "problem_192(5, 2)"
   ]
  },
  {
   "cell_type": "markdown",
   "id": "7fbe4a77",
   "metadata": {},
   "source": [
    "### 193"
   ]
  },
  {
   "cell_type": "code",
   "execution_count": 13,
   "id": "7728b724",
   "metadata": {
    "scrolled": true
   },
   "outputs": [
    {
     "data": {
      "text/plain": [
       "9"
      ]
     },
     "execution_count": 13,
     "metadata": {},
     "output_type": "execute_result"
    }
   ],
   "source": [
    "def problem_193(n):\n",
    "    num = 1\n",
    "    k = 0\n",
    "    for i in range(1, n+1):\n",
    "        num *= i\n",
    "        k += num\n",
    "        \n",
    "    return k\n",
    "\n",
    "problem_193(3)"
   ]
  },
  {
   "cell_type": "markdown",
   "id": "c52becc5",
   "metadata": {},
   "source": [
    "### 194"
   ]
  },
  {
   "cell_type": "code",
   "execution_count": 16,
   "id": "6c736c73",
   "metadata": {},
   "outputs": [
    {
     "data": {
      "text/plain": [
       "2.7166666666666663"
      ]
     },
     "execution_count": 16,
     "metadata": {},
     "output_type": "execute_result"
    }
   ],
   "source": [
    "def problem_194(n):\n",
    "    num = 1\n",
    "    k = 1\n",
    "    for i in range(1, n+1):\n",
    "        num *= i\n",
    "        k += 1/num\n",
    "        \n",
    "    return k\n",
    "\n",
    "problem_194(5)"
   ]
  },
  {
   "cell_type": "markdown",
   "id": "7d6f1fe9",
   "metadata": {},
   "source": [
    "### 195"
   ]
  },
  {
   "cell_type": "code",
   "execution_count": 17,
   "id": "28aa73cb",
   "metadata": {},
   "outputs": [
    {
     "data": {
      "text/plain": [
       "7.388994708994708"
      ]
     },
     "execution_count": 17,
     "metadata": {},
     "output_type": "execute_result"
    }
   ],
   "source": [
    "def problem_195(n, x):\n",
    "    num = 1\n",
    "    k = 1\n",
    "    for i in range(1, n+1):\n",
    "        num *= i\n",
    "        k += x**i/num\n",
    "        \n",
    "    return k\n",
    "\n",
    "problem_195(10, 2)"
   ]
  },
  {
   "cell_type": "markdown",
   "id": "0034b7c3",
   "metadata": {},
   "source": [
    "### 196"
   ]
  },
  {
   "cell_type": "code",
   "execution_count": 22,
   "id": "ad8e18d2",
   "metadata": {},
   "outputs": [
    {
     "data": {
      "text/plain": [
       "-16.285714285714285"
      ]
     },
     "execution_count": 22,
     "metadata": {},
     "output_type": "execute_result"
    }
   ],
   "source": [
    "# def problem_196(n, x):\n",
    "#     k = x\n",
    "#     num = 1\n",
    "#     for i in range(3, n+1):\n",
    "#         if i % 2 != 0:\n",
    "#             d = 2*i+1\n",
    "#             num *= d *(d-1)\n",
    "#             if (i // 2) % 2 == 1:\n",
    "                \n",
    "#                 k += ((-1)* (x**d)/num)\n",
    "#             else:\n",
    "#                 k += ((x**d)/num)\n",
    "            \n",
    "#     return k\n",
    "                \n",
    "# problem_196(3, 2)"
   ]
  },
  {
   "cell_type": "code",
   "execution_count": null,
   "id": "92b93116",
   "metadata": {},
   "outputs": [],
   "source": []
  },
  {
   "cell_type": "markdown",
   "id": "54d106f8",
   "metadata": {},
   "source": [
    "### 201"
   ]
  },
  {
   "cell_type": "code",
   "execution_count": 23,
   "id": "4ca190c9",
   "metadata": {},
   "outputs": [
    {
     "data": {
      "text/plain": [
       "12"
      ]
     },
     "execution_count": 23,
     "metadata": {},
     "output_type": "execute_result"
    }
   ],
   "source": [
    "def problem_201(n):\n",
    "    k = 1\n",
    "    while n//10:\n",
    "        k+=1\n",
    "        n = n //10\n",
    "        \n",
    "    return k\n",
    "\n",
    "problem_201(432265965121)"
   ]
  },
  {
   "cell_type": "markdown",
   "id": "3806fea8",
   "metadata": {},
   "source": [
    "### 202"
   ]
  },
  {
   "cell_type": "code",
   "execution_count": 49,
   "id": "1b476ab6",
   "metadata": {},
   "outputs": [
    {
     "data": {
      "text/plain": [
       "4"
      ]
     },
     "execution_count": 49,
     "metadata": {},
     "output_type": "execute_result"
    }
   ],
   "source": [
    "def problem_202_1(n):\n",
    "    total = 0\n",
    "    i = 0\n",
    "    while n // (10**i):\n",
    "        total += (n //(10**i) %10)\n",
    "        i +=1\n",
    "        \n",
    "    return total\n",
    "\n",
    "problem_202_1(31)"
   ]
  },
  {
   "cell_type": "markdown",
   "id": "0b36ecfd",
   "metadata": {},
   "source": [
    "### 203"
   ]
  },
  {
   "cell_type": "code",
   "execution_count": 68,
   "id": "e519fdb8",
   "metadata": {},
   "outputs": [
    {
     "data": {
      "text/plain": [
       "10"
      ]
     },
     "execution_count": 68,
     "metadata": {},
     "output_type": "execute_result"
    }
   ],
   "source": [
    "def problem_203(n):\n",
    "    total = 1\n",
    "    i = 0\n",
    "    while n // (10**i):\n",
    "        total += (n //(10**i) %10)\n",
    "        i +=1\n",
    "        \n",
    "    return total\n",
    "\n",
    "problem_203(351)"
   ]
  },
  {
   "cell_type": "markdown",
   "id": "3e06bf34",
   "metadata": {},
   "source": [
    "### 204"
   ]
  },
  {
   "cell_type": "code",
   "execution_count": 81,
   "id": "9160a059",
   "metadata": {},
   "outputs": [
    {
     "data": {
      "text/plain": [
       "13"
      ]
     },
     "execution_count": 81,
     "metadata": {},
     "output_type": "execute_result"
    }
   ],
   "source": [
    "def problem_204_1(n):\n",
    "    total = 0\n",
    "    while n:\n",
    "        total = 10*total +(n%10)\n",
    "        n = n // 10\n",
    "\n",
    "    return total\n",
    "\n",
    "problem_204(31)"
   ]
  },
  {
   "cell_type": "markdown",
   "id": "b8013f86",
   "metadata": {},
   "source": [
    "### 211"
   ]
  },
  {
   "cell_type": "code",
   "execution_count": 2,
   "id": "caf7f9a7",
   "metadata": {},
   "outputs": [
    {
     "data": {
      "text/plain": [
       "12.0"
      ]
     },
     "execution_count": 2,
     "metadata": {},
     "output_type": "execute_result"
    }
   ],
   "source": [
    "def problem_211(n: list) -> float:\n",
    "    k = 0\n",
    "    length = len(n)\n",
    "    for i in range(length):\n",
    "        if n[i] > 0:\n",
    "            k += n[i]/length\n",
    "    if k == 0:\n",
    "        return 'Not founded positive numbers'\n",
    "    else:\n",
    "        return k\n",
    "\n",
    "problem_211([20, 12, -4, 16])"
   ]
  },
  {
   "cell_type": "markdown",
   "id": "1cc1a8d6",
   "metadata": {},
   "source": [
    "### 212"
   ]
  },
  {
   "cell_type": "code",
   "execution_count": 16,
   "id": "1b521a56",
   "metadata": {},
   "outputs": [
    {
     "data": {
      "text/plain": [
       "'Not founded positive numbers'"
      ]
     },
     "execution_count": 16,
     "metadata": {},
     "output_type": "execute_result"
    }
   ],
   "source": [
    "def problem_212(n: list) -> float:\n",
    "    k = 0\n",
    "    length = len(n)\n",
    "    for i in range(length):\n",
    "        if n[i] > 0:\n",
    "            k += ((n[i]) ** 2)/2\n",
    "    if k == 0:\n",
    "        return 'Not founded positive numbers'\n",
    "    else:\n",
    "        return math,sqrt(k)\n",
    "#     try:\n",
    "#         return math.sqrt(k)\n",
    "#     except ValueError:\n",
    "#         return 'Not founded positive numbers'\n",
    "    \n",
    "problem_212([-1, -2])"
   ]
  },
  {
   "cell_type": "markdown",
   "id": "1a5b26ff",
   "metadata": {},
   "source": [
    "### 213"
   ]
  },
  {
   "cell_type": "code",
   "execution_count": 20,
   "id": "567faba3",
   "metadata": {},
   "outputs": [
    {
     "data": {
      "text/plain": [
       "4.0"
      ]
     },
     "execution_count": 20,
     "metadata": {},
     "output_type": "execute_result"
    }
   ],
   "source": [
    "def problem_213(n: list) -> float:\n",
    "    k = 0\n",
    "    length = len(n)\n",
    "    for i in range(length):\n",
    "        if n[i] < 0:\n",
    "            k += ((n[i]) ** 2)/2\n",
    "    if k == 0:\n",
    "        return 'Not founded negative numbers'\n",
    "    else:\n",
    "        return math.sqrt(k)\n",
    "#     try:\n",
    "#         return math.sqrt(k)\n",
    "#     except ValueError:\n",
    "#         return 'Not founded positive numbers'\n",
    "    \n",
    "problem_213([-4, -4])"
   ]
  },
  {
   "cell_type": "markdown",
   "id": "989a7962",
   "metadata": {},
   "source": [
    "### 214"
   ]
  },
  {
   "cell_type": "code",
   "execution_count": 22,
   "id": "fde072f5",
   "metadata": {},
   "outputs": [
    {
     "data": {
      "text/plain": [
       "-2.5"
      ]
     },
     "execution_count": 22,
     "metadata": {},
     "output_type": "execute_result"
    }
   ],
   "source": [
    "def problem_214(n : list) -> float:\n",
    "    k = 0\n",
    "    length = len(n)\n",
    "    for i in range(length):\n",
    "        if n[i] < 0:\n",
    "            k += n[i]/length\n",
    "    if k == 0:\n",
    "        return 'Not founded negative numbers'\n",
    "    else:\n",
    "        return k  \n",
    "    \n",
    "problem_214([-2, -3])"
   ]
  },
  {
   "cell_type": "markdown",
   "id": "e3c9df5b",
   "metadata": {},
   "source": [
    "### 215"
   ]
  },
  {
   "cell_type": "code",
   "execution_count": 31,
   "id": "635c2330",
   "metadata": {},
   "outputs": [
    {
     "data": {
      "text/plain": [
       "33"
      ]
     },
     "execution_count": 31,
     "metadata": {},
     "output_type": "execute_result"
    }
   ],
   "source": [
    "def problem_215(n : list) -> float:\n",
    "    k = 0\n",
    "    for i in range(0, len(n), 2):\n",
    "        k += n[i]\n",
    "        \n",
    "    return k\n",
    "        \n",
    "problem_215([0, 2, -1, 4, 34])"
   ]
  },
  {
   "cell_type": "markdown",
   "id": "736eef9c",
   "metadata": {},
   "source": [
    "### 216"
   ]
  },
  {
   "cell_type": "code",
   "execution_count": 32,
   "id": "2ed9e898",
   "metadata": {},
   "outputs": [
    {
     "data": {
      "text/plain": [
       "0"
      ]
     },
     "execution_count": 32,
     "metadata": {},
     "output_type": "execute_result"
    }
   ],
   "source": [
    "def problem_216(n : list) -> float:\n",
    "    k = 1\n",
    "    for i in range(0, len(n), 2):\n",
    "        k *= n[i]\n",
    "        \n",
    "    return k\n",
    "        \n",
    "problem_216([0, 2, -1, 4, 34])"
   ]
  },
  {
   "cell_type": "markdown",
   "id": "d4c36e97",
   "metadata": {},
   "source": [
    "### 217"
   ]
  },
  {
   "cell_type": "code",
   "execution_count": 33,
   "id": "7fa9c64d",
   "metadata": {},
   "outputs": [
    {
     "data": {
      "text/plain": [
       "8"
      ]
     },
     "execution_count": 33,
     "metadata": {},
     "output_type": "execute_result"
    }
   ],
   "source": [
    "def problem_217(n : list) -> float:\n",
    "    k = 1\n",
    "    for i in range(1, len(n), 2):\n",
    "        k *= n[i]\n",
    "        \n",
    "    return k\n",
    "        \n",
    "problem_217([0, 2, -1, 4, 34])"
   ]
  },
  {
   "cell_type": "markdown",
   "id": "b4b72515",
   "metadata": {},
   "source": [
    "### 218"
   ]
  },
  {
   "cell_type": "code",
   "execution_count": 34,
   "id": "e8eb1240",
   "metadata": {},
   "outputs": [
    {
     "data": {
      "text/plain": [
       "46"
      ]
     },
     "execution_count": 34,
     "metadata": {},
     "output_type": "execute_result"
    }
   ],
   "source": [
    "def problem_218(n : list) -> float:\n",
    "    k = 0\n",
    "    for i in range(1, len(n), 2):\n",
    "        k += abs(n[i])\n",
    "        \n",
    "    return k\n",
    "        \n",
    "problem_218([0, 2, -1, -44, 34])"
   ]
  },
  {
   "cell_type": "markdown",
   "id": "3ee4872f",
   "metadata": {},
   "source": [
    "### 219"
   ]
  },
  {
   "cell_type": "code",
   "execution_count": 39,
   "id": "c077f382",
   "metadata": {},
   "outputs": [
    {
     "data": {
      "text/plain": [
       "3"
      ]
     },
     "execution_count": 39,
     "metadata": {},
     "output_type": "execute_result"
    }
   ],
   "source": [
    "def problem_219(n: list, k: int) -> float:\n",
    "    s = 0\n",
    "    for i in range(len(n)):\n",
    "        if i % k == 0:\n",
    "            s+=1\n",
    "            \n",
    "    return s\n",
    "\n",
    "problem_219(n=[1, 2, 3, 4, 5, 6, 7, 8, 9, 0], k=4)"
   ]
  },
  {
   "cell_type": "markdown",
   "id": "a14b0e8d",
   "metadata": {},
   "source": [
    "### 220"
   ]
  },
  {
   "cell_type": "code",
   "execution_count": 45,
   "id": "b63860c2",
   "metadata": {},
   "outputs": [
    {
     "data": {
      "text/plain": [
       "'There is 4 even numbers and 5 odd numbers'"
      ]
     },
     "execution_count": 45,
     "metadata": {},
     "output_type": "execute_result"
    }
   ],
   "source": [
    "def problem_220(n: list) -> str:\n",
    "    odd = 0\n",
    "    even = 0\n",
    "    for i in range(len(n)):\n",
    "        if n[i] % 2 == 0:\n",
    "            even += 1\n",
    "        elif n[i] % 2 == 1:\n",
    "            odd += 1\n",
    "    if even < 2 and odd < 2:\n",
    "        return f'There is {even} even number and {odd} odd number'\n",
    "    elif even > 1 and odd < 2:\n",
    "        return f'There are {even} even numbers and {odd} odd number'\n",
    "    elif even < 2 and odd >1:\n",
    "        return f'There is {even} even number and {odd} odd numbers'\n",
    "    else:\n",
    "        return f'There is {even} even numbers and {odd} odd numbers'\n",
    "\n",
    "problem_220([1, 2, 3, 4, 5, 6, 7, 9, 0])"
   ]
  },
  {
   "cell_type": "markdown",
   "id": "d26aa28e",
   "metadata": {},
   "source": [
    "### 221"
   ]
  },
  {
   "cell_type": "code",
   "execution_count": 56,
   "id": "7cb3aeda",
   "metadata": {},
   "outputs": [
    {
     "data": {
      "text/plain": [
       "5"
      ]
     },
     "execution_count": 56,
     "metadata": {},
     "output_type": "execute_result"
    }
   ],
   "source": [
    "def problem_221(n: list, mijakayq: range) -> float:\n",
    "    k = 0\n",
    "    for i in n:\n",
    "        if i in mijakayq:\n",
    "            k += i\n",
    "            \n",
    "    return k\n",
    "\n",
    "problem_221([1, 2, 3, 4, 5, 6 ,7 , 8, 9], range(2, 4))"
   ]
  },
  {
   "cell_type": "markdown",
   "id": "8fdd5a83",
   "metadata": {},
   "source": [
    "### 222"
   ]
  },
  {
   "cell_type": "code",
   "execution_count": 58,
   "id": "db5fdc68",
   "metadata": {},
   "outputs": [
    {
     "data": {
      "text/plain": [
       "6"
      ]
     },
     "execution_count": 58,
     "metadata": {},
     "output_type": "execute_result"
    }
   ],
   "source": [
    "def problem_222(n: list, mijakayq: range) -> float:\n",
    "    k = 1\n",
    "    for i in n:\n",
    "        if i in mijakayq:\n",
    "            k *= i\n",
    "            \n",
    "    return k\n",
    "\n",
    "problem_222([1, 2, 3, 4, 5, 6 ,7 , 8, 9], range(2, 4))   "
   ]
  },
  {
   "cell_type": "markdown",
   "id": "2b032bad",
   "metadata": {},
   "source": [
    "### 223"
   ]
  },
  {
   "cell_type": "code",
   "execution_count": 60,
   "id": "2b553fb3",
   "metadata": {},
   "outputs": [
    {
     "data": {
      "text/plain": [
       "2"
      ]
     },
     "execution_count": 60,
     "metadata": {},
     "output_type": "execute_result"
    }
   ],
   "source": [
    "def problem_223(n: list, mijakayq: range) -> int:\n",
    "    k = 0\n",
    "    for i in n:\n",
    "        if i in mijakayq:\n",
    "            k += 1\n",
    "            \n",
    "    return k\n",
    "\n",
    "problem_223([1, 2, 3, 4, 5, 6 ,7 , 8, 9], range(2, 4))   "
   ]
  },
  {
   "cell_type": "markdown",
   "id": "a25b9a3d",
   "metadata": {},
   "source": [
    "### 231"
   ]
  },
  {
   "cell_type": "code",
   "execution_count": 62,
   "id": "0ff0b170",
   "metadata": {},
   "outputs": [
    {
     "data": {
      "text/plain": [
       "56"
      ]
     },
     "execution_count": 62,
     "metadata": {},
     "output_type": "execute_result"
    }
   ],
   "source": [
    "def problem_231(n: list) -> int:\n",
    "    k = 0\n",
    "    for i in n:\n",
    "        if i % 2 == 0:\n",
    "            k += i ** 2\n",
    "            \n",
    "    return k\n",
    "\n",
    "problem_231([1, 2, 3, 4, 6])"
   ]
  },
  {
   "cell_type": "markdown",
   "id": "53958c7e",
   "metadata": {},
   "source": [
    "### 249"
   ]
  },
  {
   "cell_type": "code",
   "execution_count": 85,
   "id": "21ef9954",
   "metadata": {},
   "outputs": [
    {
     "data": {
      "text/plain": [
       "2"
      ]
     },
     "execution_count": 85,
     "metadata": {},
     "output_type": "execute_result"
    }
   ],
   "source": [
    "def problem_249(n: list, k: float | int) -> float:\n",
    "    s = 0\n",
    "    for i in range(len(n)):\n",
    "        if abs(i-n[i]) > k:\n",
    "            s += 1\n",
    "    \n",
    "    return s\n",
    "problem_249([1, 2, 3, 4, 5, 6, 7, 8, 9, 150, 151], 3)"
   ]
  },
  {
   "cell_type": "markdown",
   "id": "3d3c56f2",
   "metadata": {},
   "source": [
    "### 250"
   ]
  },
  {
   "cell_type": "code",
   "execution_count": 63,
   "id": "46294b5b",
   "metadata": {},
   "outputs": [
    {
     "data": {
      "text/plain": [
       "26244"
      ]
     },
     "execution_count": 63,
     "metadata": {},
     "output_type": "execute_result"
    }
   ],
   "source": [
    "def problem_250(n: list) -> int:\n",
    "    k = 1\n",
    "    for i in range(len(n)):\n",
    "        if (i+n[i]) % 3 == 2:\n",
    "            k *= n[i] ** 2\n",
    "            \n",
    "    return k\n",
    "\n",
    "problem_250([1, 2, 3, 4, 5, 6, 7, 8, 9])"
   ]
  },
  {
   "cell_type": "markdown",
   "id": "e8da1eb0",
   "metadata": {},
   "source": [
    "### 251"
   ]
  },
  {
   "cell_type": "code",
   "execution_count": 66,
   "id": "c1f6f209",
   "metadata": {},
   "outputs": [
    {
     "data": {
      "text/plain": [
       "7"
      ]
     },
     "execution_count": 66,
     "metadata": {},
     "output_type": "execute_result"
    }
   ],
   "source": [
    "def problem_251(n: list) -> int | float:\n",
    "    k = n[0]\n",
    "    for i in n:\n",
    "        if i > k:\n",
    "            k = i\n",
    "    return k\n",
    "\n",
    "problem_251([-3, 4, 7])"
   ]
  },
  {
   "cell_type": "markdown",
   "id": "0eb99ddf",
   "metadata": {},
   "source": [
    "### 252"
   ]
  },
  {
   "cell_type": "code",
   "execution_count": 67,
   "id": "ab067e2e",
   "metadata": {},
   "outputs": [
    {
     "data": {
      "text/plain": [
       "-3"
      ]
     },
     "execution_count": 67,
     "metadata": {},
     "output_type": "execute_result"
    }
   ],
   "source": [
    "def problem_252(n: list) -> int | float:\n",
    "    k = n[0]\n",
    "    for i in n:\n",
    "        if i < k:\n",
    "            k = i\n",
    "    return k\n",
    "\n",
    "problem_252([-3, 4, 7])  "
   ]
  },
  {
   "cell_type": "markdown",
   "id": "3ada577e",
   "metadata": {},
   "source": [
    "### 253"
   ]
  },
  {
   "cell_type": "code",
   "execution_count": 69,
   "id": "071cb6ed",
   "metadata": {},
   "outputs": [
    {
     "data": {
      "text/plain": [
       "5"
      ]
     },
     "execution_count": 69,
     "metadata": {},
     "output_type": "execute_result"
    }
   ],
   "source": [
    "def problem_253(n: list) -> int:\n",
    "    mecaguyn = n[0]\n",
    "    poqraguyn = n[0]\n",
    "    for i in n:\n",
    "        if i > mecaguyn:\n",
    "            mecaguyn = i\n",
    "        elif i < poqraguyn:\n",
    "            poqraguyn = i\n",
    "            \n",
    "    return mecaguyn + poqraguyn\n",
    "\n",
    "problem_253([-3, 7, 8])"
   ]
  },
  {
   "cell_type": "markdown",
   "id": "5508b892",
   "metadata": {},
   "source": [
    "### 254"
   ]
  },
  {
   "cell_type": "code",
   "execution_count": 70,
   "id": "8e4f0a60",
   "metadata": {},
   "outputs": [
    {
     "data": {
      "text/plain": [
       "-24"
      ]
     },
     "execution_count": 70,
     "metadata": {},
     "output_type": "execute_result"
    }
   ],
   "source": [
    "def problem_254(n: list) -> int:\n",
    "    mecaguyn = n[0]\n",
    "    poqraguyn = n[0]\n",
    "    for i in n:\n",
    "        if i > mecaguyn:\n",
    "            mecaguyn = i\n",
    "        elif i < poqraguyn:\n",
    "            poqraguyn = i\n",
    "            \n",
    "    return mecaguyn * poqraguyn\n",
    "\n",
    "problem_254([-3, 7, 8])"
   ]
  },
  {
   "cell_type": "markdown",
   "id": "2c3dd7b0",
   "metadata": {},
   "source": [
    "### 255"
   ]
  },
  {
   "cell_type": "code",
   "execution_count": 71,
   "id": "1e5cde3b",
   "metadata": {},
   "outputs": [
    {
     "data": {
      "text/plain": [
       "32"
      ]
     },
     "execution_count": 71,
     "metadata": {},
     "output_type": "execute_result"
    }
   ],
   "source": [
    "def problem_255(n: list) -> int:\n",
    "    mecaguyn = n[0]\n",
    "    indexy = 0\n",
    "    for i in range(len(n)):\n",
    "        if n[i] > mecaguyn:\n",
    "            mecaguyn = n[i]\n",
    "            indexy = i\n",
    "            \n",
    "    return mecaguyn * indexy\n",
    "\n",
    "problem_255([1, 2, 3, -5, 8])"
   ]
  },
  {
   "cell_type": "markdown",
   "id": "27191e3c",
   "metadata": {},
   "source": [
    "### 256"
   ]
  },
  {
   "cell_type": "code",
   "execution_count": 72,
   "id": "95aaec2d",
   "metadata": {},
   "outputs": [
    {
     "data": {
      "text/plain": [
       "-15"
      ]
     },
     "execution_count": 72,
     "metadata": {},
     "output_type": "execute_result"
    }
   ],
   "source": [
    "def problem_256(n: list) -> int:\n",
    "    mecaguyn = n[0]\n",
    "    indexy = 0\n",
    "    for i in range(len(n)):\n",
    "        if n[i] < mecaguyn:\n",
    "            mecaguyn = n[i]\n",
    "            indexy = i\n",
    "            \n",
    "    return mecaguyn * indexy\n",
    "\n",
    "problem_256([1, 2, 3, -5, 8])"
   ]
  },
  {
   "cell_type": "markdown",
   "id": "229181b2",
   "metadata": {},
   "source": [
    "### 257"
   ]
  },
  {
   "cell_type": "code",
   "execution_count": 75,
   "id": "6049d0e1",
   "metadata": {},
   "outputs": [
    {
     "data": {
      "text/plain": [
       "2"
      ]
     },
     "execution_count": 75,
     "metadata": {},
     "output_type": "execute_result"
    }
   ],
   "source": [
    "def problem_257(n: list) -> int:\n",
    "    indexy = 0\n",
    "    mecaguyny = n[0]\n",
    "    for i in range(len(n)):\n",
    "        if n[i] > mecaguyny:\n",
    "            indexy = i\n",
    "            mecaguyny = n[i]\n",
    "            \n",
    "    return indexy\n",
    "\n",
    "problem_257([2, 3, 5, -3, 5])"
   ]
  },
  {
   "cell_type": "markdown",
   "id": "39d8336a",
   "metadata": {},
   "source": [
    "### 258"
   ]
  },
  {
   "cell_type": "code",
   "execution_count": 76,
   "id": "15775ce0",
   "metadata": {},
   "outputs": [
    {
     "data": {
      "text/plain": [
       "4"
      ]
     },
     "execution_count": 76,
     "metadata": {},
     "output_type": "execute_result"
    }
   ],
   "source": [
    "def problem_258(n: list) -> int:\n",
    "    indexy = 0\n",
    "    mecaguyny = n[0]\n",
    "    for i in range(len(n)):\n",
    "        if n[i] >= mecaguyny:\n",
    "            indexy = i\n",
    "            mecaguyny = n[i]\n",
    "            \n",
    "    return indexy\n",
    "\n",
    "problem_258([2, 3, 5, -3, 5])"
   ]
  },
  {
   "cell_type": "markdown",
   "id": "af40cf60",
   "metadata": {},
   "source": [
    "### 259"
   ]
  },
  {
   "cell_type": "code",
   "execution_count": 78,
   "id": "c9e1c871",
   "metadata": {},
   "outputs": [
    {
     "data": {
      "text/plain": [
       "1"
      ]
     },
     "execution_count": 78,
     "metadata": {},
     "output_type": "execute_result"
    }
   ],
   "source": [
    "def problem_259(n: list) -> int:\n",
    "    indexy = 0\n",
    "    poqraguyny = n[0]\n",
    "    for i in range(len(n)):\n",
    "        if n[i] < poqraguyny:\n",
    "            indexy = i\n",
    "            poqraguyny = n[i]\n",
    "            \n",
    "    return indexy\n",
    "\n",
    "problem_259([2, -3, 5, -3, 5])"
   ]
  },
  {
   "cell_type": "markdown",
   "id": "670ebaf3",
   "metadata": {},
   "source": [
    "### 260"
   ]
  },
  {
   "cell_type": "code",
   "execution_count": 79,
   "id": "6e115fcb",
   "metadata": {},
   "outputs": [
    {
     "data": {
      "text/plain": [
       "3"
      ]
     },
     "execution_count": 79,
     "metadata": {},
     "output_type": "execute_result"
    }
   ],
   "source": [
    "def problem_260(n: list) -> int:\n",
    "    indexy = 0\n",
    "    poqraguyny = n[0]\n",
    "    for i in range(len(n)):\n",
    "        if n[i] <= poqraguyny:\n",
    "            indexy = i\n",
    "            poqraguyny = n[i]\n",
    "            \n",
    "    return indexy\n",
    "\n",
    "problem_260([2, -3, 5, -3, 5])"
   ]
  },
  {
   "cell_type": "markdown",
   "id": "e66da6ff",
   "metadata": {},
   "source": [
    "### 261"
   ]
  },
  {
   "cell_type": "code",
   "execution_count": 1,
   "id": "5bb7617c",
   "metadata": {},
   "outputs": [],
   "source": [
    "def problem_261(n: int, X: list, Y: list) -> float:\n",
    "    \"\"\"\n",
    "    This function is doing this!\n",
    "    \n",
    "    params:\n",
    "    n - int, \n",
    "    X\n",
    "    Y\n",
    "    output - float, \n",
    "    \"\"\"\n",
    "    mean_X = 0\n",
    "    mean_Y = 0\n",
    "    for i in X:\n",
    "        mean_X += i/n # divi\n",
    "        \n",
    "    for i in Y:\n",
    "        mean_Y += i/n\n",
    "        \n",
    "    return mean_X * mean_Y"
   ]
  },
  {
   "cell_type": "markdown",
   "id": "db7a1c10",
   "metadata": {},
   "source": [
    "### 358"
   ]
  },
  {
   "cell_type": "code",
   "execution_count": 22,
   "id": "46862cc1",
   "metadata": {},
   "outputs": [
    {
     "data": {
      "text/plain": [
       "2"
      ]
     },
     "execution_count": 22,
     "metadata": {},
     "output_type": "execute_result"
    }
   ],
   "source": [
    "def problem_358(L: list) -> int:\n",
    "    k = 0\n",
    "    for i in range(len(L)):\n",
    "        if abs(L[i] - round(L[i])) < abs(L[k] -round(L[k])): #\n",
    "            k = i\n",
    "    return k\n",
    "        \n",
    "problem_358([1.4, 2.3, 3.02, 3.6])     "
   ]
  },
  {
   "cell_type": "markdown",
   "id": "04489da1",
   "metadata": {},
   "source": [
    "### 359"
   ]
  },
  {
   "cell_type": "code",
   "execution_count": 24,
   "id": "ad3ec07b",
   "metadata": {},
   "outputs": [
    {
     "data": {
      "text/plain": [
       "3"
      ]
     },
     "execution_count": 24,
     "metadata": {},
     "output_type": "execute_result"
    }
   ],
   "source": [
    "def problem_359(x: float, L: list) -> int:\n",
    "    for k in range(1, len(L)+1):\n",
    "        if L[k-1] < x and L[k] > x:\n",
    "            return k\n",
    "    return 'NO'\n",
    "        \n",
    "problem_359(23.4, [1, 2, 3, 56, 345])\n",
    "    "
   ]
  },
  {
   "cell_type": "markdown",
   "source": [
    "### 360"
   ],
   "metadata": {
    "collapsed": false
   },
   "id": "2c83ecc7518f0c9e"
  },
  {
   "cell_type": "code",
   "execution_count": null,
   "outputs": [],
   "source": [],
   "metadata": {
    "collapsed": false
   },
   "id": "b2c817f7b6e83320"
  }
 ],
 "metadata": {
  "kernelspec": {
   "display_name": "Python 3 (ipykernel)",
   "language": "python",
   "name": "python3"
  },
  "language_info": {
   "codemirror_mode": {
    "name": "ipython",
    "version": 3
   },
   "file_extension": ".py",
   "mimetype": "text/x-python",
   "name": "python",
   "nbconvert_exporter": "python",
   "pygments_lexer": "ipython3",
   "version": "3.10.9"
  }
 },
 "nbformat": 4,
 "nbformat_minor": 5
}
